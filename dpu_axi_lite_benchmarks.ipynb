{
 "cells": [
  {
   "cell_type": "markdown",
   "metadata": {
    "collapsed": true
   },
   "source": [
    "# Welcome to PYNQ\n",
    "\n",
    "## Getting Started\n",
    "\n",
    "To get started using PYNQ, try running the example notebooks in the folders described below. \n",
    "\n",
    "* **getting_started**: includes an introduction to using Jupyter notebook with PYNQ, the Python environment, and how to use some basic features of the curernt platform. \n",
    "\n",
    "* **common**: contains example notebooks on how to download an overlay, how to set the Zynq clocks, how to execute Linux shell commands, and how to use USB devices.\n",
    "\n",
    "If other overlays or packages are installed, other folders with example notebooks may also be available in this directory.  \n",
    "\n",
    "\n",
    "## Documentation\n",
    "\n",
    "Please see the latest <a href=\"http://pynq.readthedocs.io\">PYNQ Documentation on readthedocs</a>.  \n",
    "\n",
    "\n",
    "## Support\n",
    "\n",
    "For questions or support, go to the forum on the <a href=\"http://www.pynq.io\">PYNQ project webpage </a>.\n",
    "\n",
    "\n",
    "## Project webpage\n",
    "\n",
    "You can find details on the <a href=\"http://www.pynq.io\">PYNQ project webpage </a>.\n",
    "\n",
    "\n",
    "## GitHub\n",
    "\n",
    "The PYNQ Repository is hosted on github: <a href=\"https://github.com/Xilinx/PYNQ\">PYNQ GitHub Repository</a>."
   ]
  },
  {
   "cell_type": "code",
   "execution_count": 14,
   "metadata": {},
   "outputs": [],
   "source": [
    "import os"
   ]
  },
  {
   "cell_type": "code",
   "execution_count": 15,
   "metadata": {},
   "outputs": [
    {
     "data": {
      "text/plain": [
       "'/home/xilinx/jupyter_notebooks'"
      ]
     },
     "execution_count": 15,
     "metadata": {},
     "output_type": "execute_result"
    }
   ],
   "source": [
    "os.getcwd()"
   ]
  },
  {
   "cell_type": "code",
   "execution_count": 16,
   "metadata": {},
   "outputs": [
    {
     "name": "stdout",
     "output_type": "stream",
     "text": [
      "CPU:   650.000000MHz\n",
      "FCLK0: 76.923077MHz\n"
     ]
    }
   ],
   "source": [
    "from pynq import Overlay, Clocks\n",
    "\n",
    "print(f'CPU:   {Clocks.cpu_mhz:.6f}MHz')\n",
    "print(f'FCLK0: {Clocks.fclk0_mhz:.6f}MHz')"
   ]
  },
  {
   "cell_type": "code",
   "execution_count": 17,
   "metadata": {},
   "outputs": [],
   "source": [
    "# Use bitstream for PL \n",
    "overlay = Overlay(os.getcwd() + \"/smart_parking_lite/parkingPynqOverlay/dpu.bit\")"
   ]
  },
  {
   "cell_type": "code",
   "execution_count": null,
   "metadata": {},
   "outputs": [],
   "source": [
    "# Clock speed after loading bitstream\n",
    "print(f'CPU:   {Clocks.cpu_mhz:.6f}MHz')\n",
    "print(f'FCLK0: {Clocks.fclk0_mhz:.6f}MHz')"
   ]
  },
  {
   "cell_type": "code",
   "execution_count": 18,
   "metadata": {},
   "outputs": [],
   "source": [
    "overlay?"
   ]
  },
  {
   "cell_type": "code",
   "execution_count": 19,
   "metadata": {},
   "outputs": [],
   "source": [
    "dpu_ip = overlay.dpu_ip\n",
    "dpu_ip?"
   ]
  },
  {
   "cell_type": "code",
   "execution_count": 20,
   "metadata": {
    "scrolled": true
   },
   "outputs": [
    {
     "data": {
      "text/plain": [
       "RegisterMap {\n",
       "  CTRL = Register(AP_START=0, AP_DONE=0, AP_IDLE=1, AP_READY=0, RESERVED_1=0, AUTO_RESTART=0, RESERVED_2=0),\n",
       "  GIER = Register(Enable=0, RESERVED=0),\n",
       "  IP_IER = Register(CHAN0_INT_EN=0, CHAN1_INT_EN=0, RESERVED=0),\n",
       "  IP_ISR = Register(CHAN0_INT_ST=0, CHAN1_INT_ST=0, RESERVED=0),\n",
       "  input1_V_1 = Register(input1_V=0),\n",
       "  input1_V_2 = Register(input1_V=0),\n",
       "  layer11_out_0_V = Register(layer11_out_0_V=0),\n",
       "  layer11_out_0_V_ctrl = Register(layer11_out_0_V_ap_vld=0, RESERVED=0),\n",
       "  const_size_in_1 = Register(const_size_in_1=0, RESERVED=0),\n",
       "  const_size_in_1_ctrl = Register(const_size_in_1_ap_vld=0, RESERVED=0),\n",
       "  const_size_out_1 = Register(const_size_out_1=0, RESERVED=0),\n",
       "  const_size_out_1_ctrl = Register(const_size_out_1_ap_vld=0, RESERVED=0)\n",
       "}"
      ]
     },
     "execution_count": 20,
     "metadata": {},
     "output_type": "execute_result"
    }
   ],
   "source": [
    "#  Shows the Registers we need to access - Can use access via names or direct memory  (via names is easily)\n",
    "dpu_ip.register_map"
   ]
  },
  {
   "cell_type": "code",
   "execution_count": 21,
   "metadata": {},
   "outputs": [
    {
     "name": "stdout",
     "output_type": "stream",
     "text": [
      "Help on RegisterCTRL in module pynq.registers object:\n",
      "\n",
      "class RegisterCTRL(Register)\n",
      " |  Control signals\n",
      " |  \n",
      " |  Method resolution order:\n",
      " |      RegisterCTRL\n",
      " |      Register\n",
      " |      builtins.object\n",
      " |  \n",
      " |  Data descriptors defined here:\n",
      " |  \n",
      " |  AP_START\n",
      " |      Control signals\n",
      " |  \n",
      " |  AP_DONE\n",
      " |      Control signals\n",
      " |  \n",
      " |  AP_IDLE\n",
      " |      Control signals\n",
      " |  \n",
      " |  AP_READY\n",
      " |      Control signals\n",
      " |  \n",
      " |  RESERVED_1\n",
      " |      Control signals\n",
      " |  \n",
      " |  AUTO_RESTART\n",
      " |      Control signals\n",
      " |  \n",
      " |  RESERVED_2\n",
      " |      Control signals\n",
      " |  \n",
      " |  ----------------------------------------------------------------------\n",
      " |  Data and other attributes defined here:\n",
      " |  \n",
      " |  _fields = {'AP_DONE': {'access': 'read-only', 'bit_offset': 1, 'bit_wi...\n",
      " |  \n",
      " |  ----------------------------------------------------------------------\n",
      " |  Methods inherited from Register:\n",
      " |  \n",
      " |  __getitem__(self, index)\n",
      " |      Get the register value.\n",
      " |      \n",
      " |      This method accepts both integer index, or slice as input parameters.\n",
      " |      \n",
      " |      Parameters\n",
      " |      ----------\n",
      " |      index : int | slice\n",
      " |          The integer index, or slice to access the register value.\n",
      " |  \n",
      " |  __index__(self)\n",
      " |      Return an index containing the value of the register\n",
      " |  \n",
      " |  __init__(self, address, width=32, debug=False, buffer=None)\n",
      " |      Instantiate a register object.\n",
      " |      \n",
      " |      Parameters\n",
      " |      ----------\n",
      " |      address : int\n",
      " |          The address of the register.\n",
      " |      width : int\n",
      " |          The width of the register, e.g., 32 (default) or 64.\n",
      " |      debug : bool\n",
      " |          Turn on debug mode if True; default is False.\n",
      " |      buffer : Buffer\n",
      " |          Buffer object to use for reading and writing the value\n",
      " |          of the register. If None the address is assumed to be\n",
      " |          an absolute physical address\n",
      " |  \n",
      " |  __int__(self)\n",
      " |      Return an integer of the value of the register\n",
      " |  \n",
      " |  __repr__(self)\n",
      " |      Print a representation of the Register and all its fields\n",
      " |      \n",
      " |      If the Register has been subclassed with fields then these\n",
      " |      will be printed otherwise the return string will contain the\n",
      " |      value of the entire register\n",
      " |  \n",
      " |  __setitem__(self, index, value)\n",
      " |      Set the register value.\n",
      " |      \n",
      " |      This method accepts both integer index, or slice as input parameters.\n",
      " |      \n",
      " |      Parameters\n",
      " |      ----------\n",
      " |      index : int | slice\n",
      " |          The integer index, or slice to access the register value.\n",
      " |  \n",
      " |  __str__(self)\n",
      " |      Print the register value.\n",
      " |      \n",
      " |      This method is overloaded to print the register value. The output\n",
      " |      is a string in hex format.\n",
      " |  \n",
      " |  _debug(self, s, *args)\n",
      " |      The method provides debug capabilities for this class.\n",
      " |      \n",
      " |      Parameters\n",
      " |      ----------\n",
      " |      s : str\n",
      " |          The debug information format string\n",
      " |      *args : any\n",
      " |          The arguments to be formatted\n",
      " |      Returns\n",
      " |      -------\n",
      " |      None\n",
      " |  \n",
      " |  _reordered_setitem(self, value, index)\n",
      " |      Wrapped version of __setitem__ for better use with\n",
      " |      functools.partial\n",
      " |  \n",
      " |  ----------------------------------------------------------------------\n",
      " |  Class methods inherited from Register:\n",
      " |  \n",
      " |  count(index, width=32) from builtins.type\n",
      " |      Provide the number of bits accessed by an index or slice\n",
      " |      \n",
      " |      This method accepts both integer index, or slice as input parameters.\n",
      " |      \n",
      " |      Parameters\n",
      " |      ----------\n",
      " |      index : int | slice\n",
      " |          The integer index, or slice to access the register value.\n",
      " |      width : int\n",
      " |          The number of bits accessed.\n",
      " |  \n",
      " |  create_subclass(name, fields, doc=None) from builtins.type\n",
      " |      Create a subclass of Register that has properties for the\n",
      " |      specified fields\n",
      " |      \n",
      " |      The fields should be in the form used by `ip_dict`, namely::\n",
      " |      \n",
      " |          {name: {'access': \"read-only\" | \"read-write\" | \"write-only\",\n",
      " |                  'bit_offset': int, 'bit_width': int, 'description': str}}\n",
      " |      \n",
      " |      Parameters\n",
      " |      ----------\n",
      " |      name : str\n",
      " |          A suffix for the name of the subclass\n",
      " |      fields : dict\n",
      " |          A Dictionary containing the fields to add to the subclass\n",
      " |  \n",
      " |  ----------------------------------------------------------------------\n",
      " |  Data descriptors inherited from Register:\n",
      " |  \n",
      " |  __dict__\n",
      " |      dictionary for instance variables (if defined)\n",
      " |  \n",
      " |  __weakref__\n",
      " |      list of weak references to the object (if defined)\n",
      "\n"
     ]
    }
   ],
   "source": [
    "help(dpu_ip.register_map.CTRL)"
   ]
  },
  {
   "cell_type": "code",
   "execution_count": 22,
   "metadata": {
    "scrolled": true
   },
   "outputs": [],
   "source": [
    "# Control Signals to Start DPU\n",
    "\n",
    "# First signal to set high with axi lite IP. Ensures AP_START Signal does not go low after one cycle\n",
    "dpu_ip.register_map.CTRL.AUTO_RESTART = 1\n",
    "# Computations occur while high\n",
    "dpu_ip.register_map.CTRL.AP_START = 1"
   ]
  },
  {
   "cell_type": "code",
   "execution_count": 23,
   "metadata": {},
   "outputs": [
    {
     "data": {
      "text/plain": [
       "RegisterMap {\n",
       "  CTRL = Register(AP_START=1, AP_DONE=1, AP_IDLE=0, AP_READY=0, RESERVED_1=0, AUTO_RESTART=1, RESERVED_2=0),\n",
       "  GIER = Register(Enable=0, RESERVED=0),\n",
       "  IP_IER = Register(CHAN0_INT_EN=0, CHAN1_INT_EN=0, RESERVED=0),\n",
       "  IP_ISR = Register(CHAN0_INT_ST=0, CHAN1_INT_ST=0, RESERVED=0),\n",
       "  input1_V_1 = Register(input1_V=0),\n",
       "  input1_V_2 = Register(input1_V=0),\n",
       "  layer11_out_0_V = Register(layer11_out_0_V=0),\n",
       "  layer11_out_0_V_ctrl = Register(layer11_out_0_V_ap_vld=1, RESERVED=0),\n",
       "  const_size_in_1 = Register(const_size_in_1=2, RESERVED=0),\n",
       "  const_size_in_1_ctrl = Register(const_size_in_1_ap_vld=1, RESERVED=0),\n",
       "  const_size_out_1 = Register(const_size_out_1=1, RESERVED=0),\n",
       "  const_size_out_1_ctrl = Register(const_size_out_1_ap_vld=1, RESERVED=0)\n",
       "}"
      ]
     },
     "execution_count": 23,
     "metadata": {},
     "output_type": "execute_result"
    }
   ],
   "source": [
    "# Check if signals were set and read only registers have values\n",
    "dpu_ip.register_map"
   ]
  },
  {
   "cell_type": "code",
   "execution_count": 24,
   "metadata": {},
   "outputs": [
    {
     "name": "stdout",
     "output_type": "stream",
     "text": [
      "105\n",
      "105\n",
      "105\n"
     ]
    }
   ],
   "source": [
    "# Neural Net Smart Parking Example\n",
    "\n",
    "## Manually insert timestamp and carpark ID\n",
    "dpu_ip.register_map.input1_V_1 = 1587568860 \n",
    "dpu_ip.register_map.input1_V_2 = 1\n",
    "\n",
    "## Output\n",
    "output = int(dpu_ip.register_map.layer11_out_0_V)\n",
    "print(output)\n",
    "\n",
    "## Testing 2nd input\n",
    "dpu_ip.register_map.input1_V_1 = 1586032860\n",
    "dpu_ip.register_map.input1_V_2 = 1\n",
    "\n",
    "## Output\n",
    "output = int(dpu_ip.register_map.layer11_out_0_V)\n",
    "print(output)\n",
    "\n",
    "## Testing 3rd input\n",
    "dpu_ip.register_map.input1_V_1 = 1583909160\n",
    "dpu_ip.register_map.input1_V_2 = 1\n",
    "\n",
    "## Output\n",
    "output = int(dpu_ip.register_map.layer11_out_0_V)\n",
    "print(output)"
   ]
  },
  {
   "cell_type": "code",
   "execution_count": null,
   "metadata": {},
   "outputs": [],
   "source": [
    "# -------------------------Timing Test on continuous input------------------"
   ]
  },
  {
   "cell_type": "code",
   "execution_count": 25,
   "metadata": {},
   "outputs": [],
   "source": [
    "import time\n",
    "listOut = []"
   ]
  },
  {
   "cell_type": "code",
   "execution_count": 44,
   "metadata": {},
   "outputs": [
    {
     "name": "stdout",
     "output_type": "stream",
     "text": [
      "105\n"
     ]
    }
   ],
   "source": [
    "startTime = time.time()\n",
    "records = 1000\n",
    "\n",
    "for i in range(records):\n",
    "    dpu_ip.register_map.input1_V_1 = 1583909160\n",
    "\n",
    "    dpu_ip.register_map.input1_V_2 = 1  \n",
    "    \n",
    "    ## Output\n",
    "#     listOut.append(int(dpu_ip.register_map.layer11_out_0_V))\n",
    "endTime = time.time()\n",
    "print(int(dpu_ip.register_map.layer11_out_0_V))"
   ]
  },
  {
   "cell_type": "code",
   "execution_count": 45,
   "metadata": {},
   "outputs": [
    {
     "name": "stdout",
     "output_type": "stream",
     "text": [
      "Time for 5000 records in s: 4.168901681900024\n",
      "Time taken for 1 records in s: 0.0008337803363800049\n"
     ]
    }
   ],
   "source": [
    "print(\"Time for {0} records in s: {1}\".format(records//2, endTime - startTime))\n",
    "print(\"Time taken for 1 records in s: {0}\".format((endTime - startTime)/(records//2)))"
   ]
  },
  {
   "cell_type": "code",
   "execution_count": 122,
   "metadata": {},
   "outputs": [
    {
     "data": {
      "text/plain": [
       "32"
      ]
     },
     "execution_count": 122,
     "metadata": {},
     "output_type": "execute_result"
    }
   ],
   "source": [
    "dpu_ip.register_map.layer10_out_0_V_1.width"
   ]
  },
  {
   "cell_type": "code",
   "execution_count": 12,
   "metadata": {},
   "outputs": [
    {
     "data": {
      "text/plain": [
       "32"
      ]
     },
     "execution_count": 12,
     "metadata": {},
     "output_type": "execute_result"
    }
   ],
   "source": [
    "dpu_ip.register_map.input1_V_1.width"
   ]
  }
 ],
 "metadata": {
  "kernelspec": {
   "display_name": "Python 3",
   "language": "python",
   "name": "python3"
  },
  "language_info": {
   "codemirror_mode": {
    "name": "ipython",
    "version": 3
   },
   "file_extension": ".py",
   "mimetype": "text/x-python",
   "name": "python",
   "nbconvert_exporter": "python",
   "pygments_lexer": "ipython3",
   "version": "3.6.5"
  }
 },
 "nbformat": 4,
 "nbformat_minor": 1
}
