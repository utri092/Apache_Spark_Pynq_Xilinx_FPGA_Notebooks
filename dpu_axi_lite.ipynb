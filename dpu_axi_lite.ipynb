{
 "cells": [
  {
   "cell_type": "markdown",
   "metadata": {
    "collapsed": true
   },
   "source": [
    "# Welcome to PYNQ\n",
    "\n",
    "## Getting Started\n",
    "\n",
    "To get started using PYNQ, try running the example notebooks in the folders described below. \n",
    "\n",
    "* **getting_started**: includes an introduction to using Jupyter notebook with PYNQ, the Python environment, and how to use some basic features of the curernt platform. \n",
    "\n",
    "* **common**: contains example notebooks on how to download an overlay, how to set the Zynq clocks, how to execute Linux shell commands, and how to use USB devices.\n",
    "\n",
    "If other overlays or packages are installed, other folders with example notebooks may also be available in this directory.  \n",
    "\n",
    "\n",
    "## Documentation\n",
    "\n",
    "Please see the latest <a href=\"http://pynq.readthedocs.io\">PYNQ Documentation on readthedocs</a>.  \n",
    "\n",
    "\n",
    "## Support\n",
    "\n",
    "For questions or support, go to the forum on the <a href=\"http://www.pynq.io\">PYNQ project webpage </a>.\n",
    "\n",
    "\n",
    "## Project webpage\n",
    "\n",
    "You can find details on the <a href=\"http://www.pynq.io\">PYNQ project webpage </a>.\n",
    "\n",
    "\n",
    "## GitHub\n",
    "\n",
    "The PYNQ Repository is hosted on github: <a href=\"https://github.com/Xilinx/PYNQ\">PYNQ GitHub Repository</a>."
   ]
  },
  {
   "cell_type": "code",
   "execution_count": 1,
   "metadata": {
    "scrolled": true
   },
   "outputs": [],
   "source": [
    "import findspark\n",
    "findspark.init()\n"
   ]
  },
  {
   "cell_type": "code",
   "execution_count": 2,
   "metadata": {},
   "outputs": [],
   "source": [
    "\n",
    "import pyspark"
   ]
  },
  {
   "cell_type": "code",
   "execution_count": 3,
   "metadata": {},
   "outputs": [],
   "source": [
    "from pyspark.sql import SparkSession"
   ]
  },
  {
   "cell_type": "code",
   "execution_count": 4,
   "metadata": {},
   "outputs": [],
   "source": [
    "import os"
   ]
  },
  {
   "cell_type": "code",
   "execution_count": 5,
   "metadata": {},
   "outputs": [
    {
     "data": {
      "text/plain": [
       "'/home/xilinx/jupyter_notebooks'"
      ]
     },
     "execution_count": 5,
     "metadata": {},
     "output_type": "execute_result"
    }
   ],
   "source": [
    "os.getcwd()"
   ]
  },
  {
   "cell_type": "code",
   "execution_count": 145,
   "metadata": {},
   "outputs": [
    {
     "name": "stdout",
     "output_type": "stream",
     "text": [
      "CPU:   650.000000MHz\n",
      "FCLK0: 76.923077MHz\n"
     ]
    }
   ],
   "source": [
    "from pynq import Overlay, Clocks\n",
    "\n",
    "print(f'CPU:   {Clocks.cpu_mhz:.6f}MHz')\n",
    "print(f'FCLK0: {Clocks.fclk0_mhz:.6f}MHz')"
   ]
  },
  {
   "cell_type": "code",
   "execution_count": 125,
   "metadata": {},
   "outputs": [],
   "source": [
    "# Use bitstream for PL \n",
    "overlay = Overlay(os.getcwd() + \"/nn3/parkingPynqOverlay/dpu.bit\")"
   ]
  },
  {
   "cell_type": "code",
   "execution_count": 75,
   "metadata": {},
   "outputs": [],
   "source": [
    "overlay?"
   ]
  },
  {
   "cell_type": "code",
   "execution_count": 126,
   "metadata": {},
   "outputs": [],
   "source": [
    "dpu_ip = overlay.dpu_ip\n",
    "dpu_ip?"
   ]
  },
  {
   "cell_type": "code",
   "execution_count": 127,
   "metadata": {
    "scrolled": true
   },
   "outputs": [
    {
     "data": {
      "text/plain": [
       "RegisterMap {\n",
       "  CTRL = Register(AP_START=0, AP_DONE=0, AP_IDLE=1, AP_READY=0, RESERVED_1=0, AUTO_RESTART=0, RESERVED_2=0),\n",
       "  GIER = Register(Enable=0, RESERVED=0),\n",
       "  IP_IER = Register(CHAN0_INT_EN=0, CHAN1_INT_EN=0, RESERVED=0),\n",
       "  IP_ISR = Register(CHAN0_INT_ST=0, CHAN1_INT_ST=0, RESERVED=0),\n",
       "  input1_V_1 = Register(input1_V=0),\n",
       "  input1_V_2 = Register(input1_V=0),\n",
       "  layer11_out_0_V = Register(layer11_out_0_V=0),\n",
       "  layer11_out_0_V_ctrl = Register(layer11_out_0_V_ap_vld=0, RESERVED=0),\n",
       "  const_size_in_1 = Register(const_size_in_1=0, RESERVED=0),\n",
       "  const_size_in_1_ctrl = Register(const_size_in_1_ap_vld=0, RESERVED=0),\n",
       "  const_size_out_1 = Register(const_size_out_1=0, RESERVED=0),\n",
       "  const_size_out_1_ctrl = Register(const_size_out_1_ap_vld=0, RESERVED=0)\n",
       "}"
      ]
     },
     "execution_count": 127,
     "metadata": {},
     "output_type": "execute_result"
    }
   ],
   "source": [
    "#  Shows the Registers we need to access - Can use access via names or direct memory  (via names is easily)\n",
    "dpu_ip.register_map"
   ]
  },
  {
   "cell_type": "code",
   "execution_count": 95,
   "metadata": {},
   "outputs": [
    {
     "name": "stdout",
     "output_type": "stream",
     "text": [
      "Help on RegisterCTRL in module pynq.registers object:\n",
      "\n",
      "class RegisterCTRL(Register)\n",
      " |  Control signals\n",
      " |  \n",
      " |  Method resolution order:\n",
      " |      RegisterCTRL\n",
      " |      Register\n",
      " |      builtins.object\n",
      " |  \n",
      " |  Data descriptors defined here:\n",
      " |  \n",
      " |  AP_START\n",
      " |      Control signals\n",
      " |  \n",
      " |  AP_DONE\n",
      " |      Control signals\n",
      " |  \n",
      " |  AP_IDLE\n",
      " |      Control signals\n",
      " |  \n",
      " |  AP_READY\n",
      " |      Control signals\n",
      " |  \n",
      " |  RESERVED_1\n",
      " |      Control signals\n",
      " |  \n",
      " |  AUTO_RESTART\n",
      " |      Control signals\n",
      " |  \n",
      " |  RESERVED_2\n",
      " |      Control signals\n",
      " |  \n",
      " |  ----------------------------------------------------------------------\n",
      " |  Data and other attributes defined here:\n",
      " |  \n",
      " |  _fields = {'AP_DONE': {'access': 'read-only', 'bit_offset': 1, 'bit_wi...\n",
      " |  \n",
      " |  ----------------------------------------------------------------------\n",
      " |  Methods inherited from Register:\n",
      " |  \n",
      " |  __getitem__(self, index)\n",
      " |      Get the register value.\n",
      " |      \n",
      " |      This method accepts both integer index, or slice as input parameters.\n",
      " |      \n",
      " |      Parameters\n",
      " |      ----------\n",
      " |      index : int | slice\n",
      " |          The integer index, or slice to access the register value.\n",
      " |  \n",
      " |  __index__(self)\n",
      " |      Return an index containing the value of the register\n",
      " |  \n",
      " |  __init__(self, address, width=32, debug=False, buffer=None)\n",
      " |      Instantiate a register object.\n",
      " |      \n",
      " |      Parameters\n",
      " |      ----------\n",
      " |      address : int\n",
      " |          The address of the register.\n",
      " |      width : int\n",
      " |          The width of the register, e.g., 32 (default) or 64.\n",
      " |      debug : bool\n",
      " |          Turn on debug mode if True; default is False.\n",
      " |      buffer : Buffer\n",
      " |          Buffer object to use for reading and writing the value\n",
      " |          of the register. If None the address is assumed to be\n",
      " |          an absolute physical address\n",
      " |  \n",
      " |  __int__(self)\n",
      " |      Return an integer of the value of the register\n",
      " |  \n",
      " |  __repr__(self)\n",
      " |      Print a representation of the Register and all its fields\n",
      " |      \n",
      " |      If the Register has been subclassed with fields then these\n",
      " |      will be printed otherwise the return string will contain the\n",
      " |      value of the entire register\n",
      " |  \n",
      " |  __setitem__(self, index, value)\n",
      " |      Set the register value.\n",
      " |      \n",
      " |      This method accepts both integer index, or slice as input parameters.\n",
      " |      \n",
      " |      Parameters\n",
      " |      ----------\n",
      " |      index : int | slice\n",
      " |          The integer index, or slice to access the register value.\n",
      " |  \n",
      " |  __str__(self)\n",
      " |      Print the register value.\n",
      " |      \n",
      " |      This method is overloaded to print the register value. The output\n",
      " |      is a string in hex format.\n",
      " |  \n",
      " |  _debug(self, s, *args)\n",
      " |      The method provides debug capabilities for this class.\n",
      " |      \n",
      " |      Parameters\n",
      " |      ----------\n",
      " |      s : str\n",
      " |          The debug information format string\n",
      " |      *args : any\n",
      " |          The arguments to be formatted\n",
      " |      Returns\n",
      " |      -------\n",
      " |      None\n",
      " |  \n",
      " |  _reordered_setitem(self, value, index)\n",
      " |      Wrapped version of __setitem__ for better use with\n",
      " |      functools.partial\n",
      " |  \n",
      " |  ----------------------------------------------------------------------\n",
      " |  Class methods inherited from Register:\n",
      " |  \n",
      " |  count(index, width=32) from builtins.type\n",
      " |      Provide the number of bits accessed by an index or slice\n",
      " |      \n",
      " |      This method accepts both integer index, or slice as input parameters.\n",
      " |      \n",
      " |      Parameters\n",
      " |      ----------\n",
      " |      index : int | slice\n",
      " |          The integer index, or slice to access the register value.\n",
      " |      width : int\n",
      " |          The number of bits accessed.\n",
      " |  \n",
      " |  create_subclass(name, fields, doc=None) from builtins.type\n",
      " |      Create a subclass of Register that has properties for the\n",
      " |      specified fields\n",
      " |      \n",
      " |      The fields should be in the form used by `ip_dict`, namely::\n",
      " |      \n",
      " |          {name: {'access': \"read-only\" | \"read-write\" | \"write-only\",\n",
      " |                  'bit_offset': int, 'bit_width': int, 'description': str}}\n",
      " |      \n",
      " |      Parameters\n",
      " |      ----------\n",
      " |      name : str\n",
      " |          A suffix for the name of the subclass\n",
      " |      fields : dict\n",
      " |          A Dictionary containing the fields to add to the subclass\n",
      " |  \n",
      " |  ----------------------------------------------------------------------\n",
      " |  Data descriptors inherited from Register:\n",
      " |  \n",
      " |  __dict__\n",
      " |      dictionary for instance variables (if defined)\n",
      " |  \n",
      " |  __weakref__\n",
      " |      list of weak references to the object (if defined)\n",
      "\n"
     ]
    }
   ],
   "source": [
    "help(dpu_ip.register_map.CTRL)"
   ]
  },
  {
   "cell_type": "code",
   "execution_count": 135,
   "metadata": {
    "scrolled": true
   },
   "outputs": [],
   "source": [
    "# NN3\n",
    "\n",
    "# First signal to set high with axi lite IP. Ensures AP_START Signal does not go low after one cycle\n",
    "dpu_ip.register_map.CTRL.AUTO_RESTART = 1\n",
    "# Computations occur while high\n",
    "dpu_ip.register_map.CTRL.AP_START = 1"
   ]
  },
  {
   "cell_type": "code",
   "execution_count": 136,
   "metadata": {},
   "outputs": [
    {
     "data": {
      "text/plain": [
       "RegisterMap {\n",
       "  CTRL = Register(AP_START=0, AP_DONE=0, AP_IDLE=1, AP_READY=0, RESERVED_1=0, AUTO_RESTART=1, RESERVED_2=0),\n",
       "  GIER = Register(Enable=0, RESERVED=0),\n",
       "  IP_IER = Register(CHAN0_INT_EN=0, CHAN1_INT_EN=0, RESERVED=0),\n",
       "  IP_ISR = Register(CHAN0_INT_ST=0, CHAN1_INT_ST=0, RESERVED=0),\n",
       "  input1_V_1 = Register(input1_V=0),\n",
       "  input1_V_2 = Register(input1_V=0),\n",
       "  layer11_out_0_V = Register(layer11_out_0_V=0),\n",
       "  layer11_out_0_V_ctrl = Register(layer11_out_0_V_ap_vld=0, RESERVED=0),\n",
       "  const_size_in_1 = Register(const_size_in_1=2, RESERVED=0),\n",
       "  const_size_in_1_ctrl = Register(const_size_in_1_ap_vld=0, RESERVED=0),\n",
       "  const_size_out_1 = Register(const_size_out_1=1, RESERVED=0),\n",
       "  const_size_out_1_ctrl = Register(const_size_out_1_ap_vld=0, RESERVED=0)\n",
       "}"
      ]
     },
     "execution_count": 136,
     "metadata": {},
     "output_type": "execute_result"
    }
   ],
   "source": [
    "# Check if signals were set and read only registers have values\n",
    "dpu_ip.register_map"
   ]
  },
  {
   "cell_type": "code",
   "execution_count": 140,
   "metadata": {},
   "outputs": [
    {
     "name": "stdout",
     "output_type": "stream",
     "text": [
      "105\n",
      "105\n",
      "105\n"
     ]
    }
   ],
   "source": [
    "# NN3\n",
    "\n",
    "## Manually insert timestamp and carpark ID\n",
    "dpu_ip.register_map.input1_V_1 = 1587568860 \n",
    "dpu_ip.register_map.input1_V_2 = 1\n",
    "\n",
    "## Output\n",
    "output = int(dpu_ip.register_map.layer11_out_0_V)\n",
    "print(output)\n",
    "\n",
    "## Testing 2nd input\n",
    "dpu_ip.register_map.input1_V_1 = 1586032860\n",
    "dpu_ip.register_map.input1_V_2 = 1\n",
    "\n",
    "## Output\n",
    "output = int(dpu_ip.register_map.layer11_out_0_V)\n",
    "print(output)\n",
    "\n",
    "## Testing 3rd input\n",
    "dpu_ip.register_map.input1_V_1 = 1583909160\n",
    "dpu_ip.register_map.input1_V_2 = 1\n",
    "\n",
    "## Output\n",
    "output = int(dpu_ip.register_map.layer11_out_0_V)\n",
    "print(output)"
   ]
  },
  {
   "cell_type": "code",
   "execution_count": 147,
   "metadata": {},
   "outputs": [],
   "source": [
    "import time\n",
    "listOut = []"
   ]
  },
  {
   "cell_type": "code",
   "execution_count": 161,
   "metadata": {},
   "outputs": [],
   "source": [
    "startTime = time.time()\n",
    "records = 1000\n",
    "\n",
    "for i in range(records):\n",
    "    dpu_ip.register_map.input1_V_1 = 1583909160\n",
    "\n",
    "    dpu_ip.register_map.input1_V_2 = 1  \n",
    "    \n",
    "    ## Output\n",
    "#     listOut.append(int(dpu_ip.register_map.layer11_out_0_V))\n",
    "    \n",
    "endTime = time.time()"
   ]
  },
  {
   "cell_type": "code",
   "execution_count": 162,
   "metadata": {},
   "outputs": [
    {
     "name": "stdout",
     "output_type": "stream",
     "text": [
      "Time for 1000 records in ms: 0.40923237800598145\n"
     ]
    }
   ],
   "source": [
    "print(\"Time for {0} records in ms: {1}\".format(records, endTime - startTime))"
   ]
  },
  {
   "cell_type": "code",
   "execution_count": 160,
   "metadata": {},
   "outputs": [],
   "source": [
    "# for i in range(records):\n",
    "#     print(listOut[i])"
   ]
  },
  {
   "cell_type": "code",
   "execution_count": 105,
   "metadata": {},
   "outputs": [],
   "source": [
    "# NN2 - already tested all predictions quantise to 0 \n",
    "# as we didnt allocate any bits for floating pt for weights in hls4m it made all weights 0 "
   ]
  },
  {
   "cell_type": "code",
   "execution_count": 126,
   "metadata": {
    "scrolled": true
   },
   "outputs": [
    {
     "name": "stdout",
     "output_type": "stream",
     "text": [
      "0x9224d8bb\n"
     ]
    },
    {
     "data": {
      "text/plain": [
       "Register(layer10_out_0_V=2451888315)"
      ]
     },
     "execution_count": 126,
     "metadata": {},
     "output_type": "execute_result"
    }
   ],
   "source": [
    "from decimal import Decimal\n",
    "# neural_network - 64 bit i/0 (32bit for integer, 32 for dec point),likewise for weights and activations\n",
    "# I/O is little endian\n",
    "\n",
    "\n",
    "# Configure the ip block to be continously accept inputs (no stop-start)\n",
    "dpu_ip.register_map.CTRL.AUTO_RESTART = 1\n",
    "dpu_ip.register_map.CTRL.AP_START = 1 \n",
    "\n",
    "# Manually insert timestamp and carpark ID\n",
    "\n",
    "# timestamp\n",
    "dpu_ip.register_map.input1_V_2 = 1587568890\n",
    "dpu_ip.register_map.input1_V_1 = 0\n",
    "\n",
    "# carpark ID\n",
    "dpu_ip.register_map.input1_V_4=1\n",
    "dpu_ip.register_map.input1_V_3=0\n",
    "\n",
    "\n",
    "\n",
    "\n",
    "# Prediction Output (Should print 0 as we have quantised - 32 bit for integer 0 for decimal hence all weights =0 )\n",
    "# floating part \n",
    "\n",
    "# integer part\n",
    "from  \n",
    "integ = dpu_ip.register_map.layer10_out_0_V_2\n",
    "dec = dpu_ip.register_map.layer10_out_0_V_1\n",
    "# print(\"Prediction: \"+str(integ)+\".\"+str(dec))\n",
    "\n",
    "# Test 2nd Input\n",
    "dpu_ip.register_map.input1_V_2 = 1587373860\n",
    "dpu_ip.register_map.input1_V_1 = 0\n",
    "\n",
    "dpu_ip.register_map.input1_V_4=1\n",
    "dpu_ip.register_map.input1_V_3=0\n",
    "# dpu_ip.register_map.layer10_out_0_V_1\n",
    "# dpu_ip.register_map.layer10_out_0_V_2\n",
    "\n",
    "\n",
    "print(int(dec))"
   ]
  },
  {
   "cell_type": "code",
   "execution_count": 122,
   "metadata": {},
   "outputs": [
    {
     "data": {
      "text/plain": [
       "32"
      ]
     },
     "execution_count": 122,
     "metadata": {},
     "output_type": "execute_result"
    }
   ],
   "source": [
    "dpu_ip.register_map.layer10_out_0_V_1.width"
   ]
  },
  {
   "cell_type": "code",
   "execution_count": 12,
   "metadata": {},
   "outputs": [
    {
     "data": {
      "text/plain": [
       "32"
      ]
     },
     "execution_count": 12,
     "metadata": {},
     "output_type": "execute_result"
    }
   ],
   "source": [
    "dpu_ip.register_map.input1_V_1.width"
   ]
  },
  {
   "cell_type": "code",
   "execution_count": 37,
   "metadata": {},
   "outputs": [],
   "source": [
    "\n"
   ]
  },
  {
   "cell_type": "code",
   "execution_count": null,
   "metadata": {},
   "outputs": [],
   "source": []
  }
 ],
 "metadata": {
  "kernelspec": {
   "display_name": "Python 3",
   "language": "python",
   "name": "python3"
  },
  "language_info": {
   "codemirror_mode": {
    "name": "ipython",
    "version": 3
   },
   "file_extension": ".py",
   "mimetype": "text/x-python",
   "name": "python",
   "nbconvert_exporter": "python",
   "pygments_lexer": "ipython3",
   "version": "3.6.5"
  }
 },
 "nbformat": 4,
 "nbformat_minor": 1
}
