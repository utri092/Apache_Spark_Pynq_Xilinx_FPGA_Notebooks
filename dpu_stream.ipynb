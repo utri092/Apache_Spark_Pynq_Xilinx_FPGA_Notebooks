{
 "cells": [
  {
   "cell_type": "markdown",
   "metadata": {
    "collapsed": true
   },
   "source": [
    "# Welcome to PYNQ\n",
    "\n",
    "## Getting Started\n",
    "\n",
    "To get started using PYNQ, try running the example notebooks in the folders described below. \n",
    "\n",
    "* **getting_started**: includes an introduction to using Jupyter notebook with PYNQ, the Python environment, and how to use some basic features of the curernt platform. \n",
    "\n",
    "* **common**: contains example notebooks on how to download an overlay, how to set the Zynq clocks, how to execute Linux shell commands, and how to use USB devices.\n",
    "\n",
    "If other overlays or packages are installed, other folders with example notebooks may also be available in this directory.  \n",
    "\n",
    "\n",
    "## Documentation\n",
    "\n",
    "Please see the latest <a href=\"http://pynq.readthedocs.io\">PYNQ Documentation on readthedocs</a>.  \n",
    "\n",
    "\n",
    "## Support\n",
    "\n",
    "For questions or support, go to the forum on the <a href=\"http://www.pynq.io\">PYNQ project webpage </a>.\n",
    "\n",
    "\n",
    "## Project webpage\n",
    "\n",
    "You can find details on the <a href=\"http://www.pynq.io\">PYNQ project webpage </a>.\n",
    "\n",
    "\n",
    "## GitHub\n",
    "\n",
    "The PYNQ Repository is hosted on github: <a href=\"https://github.com/Xilinx/PYNQ\">PYNQ GitHub Repository</a>."
   ]
  },
  {
   "cell_type": "code",
   "execution_count": 107,
   "metadata": {
    "scrolled": true
   },
   "outputs": [],
   "source": [
    "import findspark\n",
    "findspark.init()\n"
   ]
  },
  {
   "cell_type": "code",
   "execution_count": 108,
   "metadata": {},
   "outputs": [],
   "source": [
    "\n",
    "import pyspark"
   ]
  },
  {
   "cell_type": "code",
   "execution_count": 109,
   "metadata": {},
   "outputs": [],
   "source": [
    "from pyspark.sql import SparkSession"
   ]
  },
  {
   "cell_type": "code",
   "execution_count": 110,
   "metadata": {},
   "outputs": [],
   "source": [
    "import os"
   ]
  },
  {
   "cell_type": "code",
   "execution_count": 111,
   "metadata": {},
   "outputs": [
    {
     "data": {
      "text/plain": [
       "'/home/xilinx/jupyter_notebooks'"
      ]
     },
     "execution_count": 111,
     "metadata": {},
     "output_type": "execute_result"
    }
   ],
   "source": [
    "os.getcwd()"
   ]
  },
  {
   "cell_type": "code",
   "execution_count": 255,
   "metadata": {},
   "outputs": [
    {
     "name": "stdout",
     "output_type": "stream",
     "text": [
      "CPU:   650.000000MHz\n",
      "FCLK0: 76.923077MHz\n"
     ]
    }
   ],
   "source": [
    "from pynq import Overlay, Clocks\n",
    "\n",
    "print(f'CPU:   {Clocks.cpu_mhz:.6f}MHz')\n",
    "print(f'FCLK0: {Clocks.fclk0_mhz:.6f}MHz')\n"
   ]
  },
  {
   "cell_type": "code",
   "execution_count": 387,
   "metadata": {},
   "outputs": [],
   "source": [
    "# Use bitstream for PL \n",
    "overlay = Overlay(os.getcwd() + \"/nn3_stream/dpu_ip/dpu.bit\")"
   ]
  },
  {
   "cell_type": "code",
   "execution_count": 388,
   "metadata": {},
   "outputs": [],
   "source": [
    "overlay?"
   ]
  },
  {
   "cell_type": "code",
   "execution_count": 389,
   "metadata": {},
   "outputs": [],
   "source": [
    "# DPU IP\n",
    "dpu_ip = overlay.dpu_ip\n",
    "dpu_ip?"
   ]
  },
  {
   "cell_type": "code",
   "execution_count": 390,
   "metadata": {},
   "outputs": [],
   "source": [
    "# DMA IP\n",
    "dma = overlay.axi_dma\n",
    "dma?"
   ]
  },
  {
   "cell_type": "code",
   "execution_count": 391,
   "metadata": {},
   "outputs": [],
   "source": [
    "hw_timer = overlay.axi_timer\n",
    "hw_timer?"
   ]
  },
  {
   "cell_type": "code",
   "execution_count": 392,
   "metadata": {
    "scrolled": true
   },
   "outputs": [
    {
     "data": {
      "text/plain": [
       "RegisterMap {\n",
       "  CTRL = Register(AP_START=0, AP_DONE=0, AP_IDLE=1, AP_READY=0, RESERVED_1=0, AUTO_RESTART=0, RESERVED_2=0),\n",
       "  GIER = Register(Enable=0, RESERVED=0),\n",
       "  IP_IER = Register(CHAN0_INT_EN=0, CHAN1_INT_EN=0, RESERVED=0),\n",
       "  IP_ISR = Register(CHAN0_INT_ST=0, CHAN1_INT_ST=0, RESERVED=0),\n",
       "  max_size = Register(max_size=0),\n",
       "  max_size_ctrl = Register(max_size_ap_vld=0, RESERVED=0)\n",
       "}"
      ]
     },
     "execution_count": 392,
     "metadata": {},
     "output_type": "execute_result"
    }
   ],
   "source": [
    "#  Shows the Registers we need to access - Can use access via names or direct memory  (via names is easier)\n",
    "dpu_ip.register_map\n"
   ]
  },
  {
   "cell_type": "code",
   "execution_count": 393,
   "metadata": {
    "scrolled": true
   },
   "outputs": [],
   "source": [
    "# NN3 Stream\n",
    "\n",
    "# First signal to set high. Ensures AP_START Signal does not go low after one cycle\n",
    "# In AXI_STREAM, only setting AP_START enables computations for 1 stream\n",
    "dpu_ip.register_map.CTRL.AUTO_RESTART = 1\n",
    "# Computations occur while high\n",
    "dpu_ip.register_map.CTRL.AP_START = 1"
   ]
  },
  {
   "cell_type": "code",
   "execution_count": 394,
   "metadata": {},
   "outputs": [
    {
     "data": {
      "text/plain": [
       "RegisterMap {\n",
       "  CTRL = Register(AP_START=1, AP_DONE=1, AP_IDLE=0, AP_READY=1, RESERVED_1=0, AUTO_RESTART=1, RESERVED_2=0),\n",
       "  GIER = Register(Enable=0, RESERVED=0),\n",
       "  IP_IER = Register(CHAN0_INT_EN=0, CHAN1_INT_EN=0, RESERVED=0),\n",
       "  IP_ISR = Register(CHAN0_INT_ST=0, CHAN1_INT_ST=0, RESERVED=0),\n",
       "  max_size = Register(max_size=4294967295),\n",
       "  max_size_ctrl = Register(max_size_ap_vld=1, RESERVED=0)\n",
       "}"
      ]
     },
     "execution_count": 394,
     "metadata": {},
     "output_type": "execute_result"
    }
   ],
   "source": [
    "# Check if signals were set and read only registers have values\n",
    "dpu_ip.register_map"
   ]
  },
  {
   "cell_type": "code",
   "execution_count": 395,
   "metadata": {},
   "outputs": [
    {
     "name": "stdout",
     "output_type": "stream",
     "text": [
      "4294967295\n"
     ]
    }
   ],
   "source": [
    "# Maximum no of elements dpu accepts in input Stream\n",
    "max_size = int(dpu_ip.register_map.max_size)\n",
    "print(max_size)"
   ]
  },
  {
   "cell_type": "code",
   "execution_count": 396,
   "metadata": {},
   "outputs": [
    {
     "ename": "AttributeError",
     "evalue": "'RegisterMapdpu_ip' object has no attribute 'stream_size'",
     "output_type": "error",
     "traceback": [
      "\u001b[0;31m---------------------------------------------------------------------------\u001b[0m",
      "\u001b[0;31mAttributeError\u001b[0m                            Traceback (most recent call last)",
      "\u001b[0;32m<ipython-input-396-d1d7c9d7d007>\u001b[0m in \u001b[0;36m<module>\u001b[0;34m()\u001b[0m\n\u001b[0;32m----> 1\u001b[0;31m \u001b[0mprint\u001b[0m\u001b[0;34m(\u001b[0m\u001b[0mint\u001b[0m\u001b[0;34m(\u001b[0m\u001b[0mdpu_ip\u001b[0m\u001b[0;34m.\u001b[0m\u001b[0mregister_map\u001b[0m\u001b[0;34m.\u001b[0m\u001b[0mstream_size\u001b[0m\u001b[0;34m)\u001b[0m\u001b[0;34m)\u001b[0m\u001b[0;34m\u001b[0m\u001b[0m\n\u001b[0m",
      "\u001b[0;31mAttributeError\u001b[0m: 'RegisterMapdpu_ip' object has no attribute 'stream_size'"
     ]
    }
   ],
   "source": [
    "print(int(dpu_ip.register_map.stream_size))"
   ]
  },
  {
   "cell_type": "code",
   "execution_count": 403,
   "metadata": {},
   "outputs": [
    {
     "name": "stdout",
     "output_type": "stream",
     "text": [
      "InStream:  [1587568890          1 1587568890          1 1587568890          1\n",
      " 1587568890          1 1587568890          1 1587568890          1\n",
      " 1587568890          1 1587568890          1 1587568890          1\n",
      " 1587568890          1]\n",
      "OutStream:  [0 0 0 0 0 0 0 0 0 0]\n"
     ]
    }
   ],
   "source": [
    "################# Test 1: Feed a single stream ##################\n",
    "\n",
    "import numpy as np\n",
    "from pynq import allocate\n",
    "\n",
    "size = 20\n",
    "row_length = 2\n",
    "inStream = allocate(shape=(size,), dtype=np.uint32)\n",
    "outStream = allocate(shape=(size//row_length,), dtype=np.uint32)\n",
    "\n",
    "isFirst = True\n",
    "time = 1587568890\n",
    "for i in range(0, size, row_length):\n",
    "    \n",
    "    if isFirst:\n",
    "        isFirst = False\n",
    "    else:\n",
    "        time += 60\n",
    "        \n",
    "    inStream[i] = 1587568890\n",
    "    inStream[i+1] = 1\n",
    "    \n",
    "inStream.flush()\n",
    "print(\"InStream: \", inStream)\n",
    "print(\"OutStream: \", outStream)"
   ]
  },
  {
   "cell_type": "code",
   "execution_count": 404,
   "metadata": {},
   "outputs": [
    {
     "name": "stdout",
     "output_type": "stream",
     "text": [
      "Completed transfer inStream\n"
     ]
    }
   ],
   "source": [
    "dma.sendchannel.transfer(inStream)\n",
    "print(\"Completed transfer inStream\")"
   ]
  },
  {
   "cell_type": "code",
   "execution_count": 405,
   "metadata": {},
   "outputs": [
    {
     "name": "stdout",
     "output_type": "stream",
     "text": [
      "Completed transfer outStream\n"
     ]
    }
   ],
   "source": [
    "dma.recvchannel.transfer(outStream)\n",
    "print(\"Completed transfer outStream\")"
   ]
  },
  {
   "cell_type": "code",
   "execution_count": 406,
   "metadata": {
    "scrolled": true
   },
   "outputs": [
    {
     "name": "stdout",
     "output_type": "stream",
     "text": [
      "Completed send Channel wait\n"
     ]
    }
   ],
   "source": [
    "# Call if TLAST is not set high in HLS code\n",
    "dma.sendchannel.wait()\n",
    "print(\"Completed send Channel wait\")"
   ]
  },
  {
   "cell_type": "code",
   "execution_count": 407,
   "metadata": {},
   "outputs": [
    {
     "name": "stdout",
     "output_type": "stream",
     "text": [
      "Completed recv Channel wait\n"
     ]
    }
   ],
   "source": [
    "# Call if TLAST is not set high in HLS code\n",
    "dma.recvchannel.wait()\n",
    "print(\"Completed recv Channel wait\")"
   ]
  },
  {
   "cell_type": "code",
   "execution_count": 408,
   "metadata": {},
   "outputs": [
    {
     "name": "stdout",
     "output_type": "stream",
     "text": [
      "[105 105 105 105 105 105 105 105 105 105]\n"
     ]
    }
   ],
   "source": [
    "outStream.flush()\n",
    "print(outStream)"
   ]
  },
  {
   "cell_type": "code",
   "execution_count": 307,
   "metadata": {},
   "outputs": [
    {
     "name": "stdout",
     "output_type": "stream",
     "text": [
      "Freed inStream buffer\n"
     ]
    }
   ],
   "source": [
    "inStream.freebuffer()\n",
    "print(\"Freed inStream buffer\")\n"
   ]
  },
  {
   "cell_type": "code",
   "execution_count": 308,
   "metadata": {},
   "outputs": [
    {
     "name": "stdout",
     "output_type": "stream",
     "text": [
      "Freed outStream buffer\n"
     ]
    }
   ],
   "source": [
    "outStream.freebuffer()\n",
    "print(\"Freed outStream buffer\")"
   ]
  },
  {
   "cell_type": "code",
   "execution_count": 421,
   "metadata": {},
   "outputs": [
    {
     "name": "stdout",
     "output_type": "stream",
     "text": [
      "InStream:  [1587568890          1 1587568950          1 1587569010          1\n",
      " 1587569070          1 1587569130          1 1587569190          1\n",
      " 1587569250          1 1587569310          1 1587569370          1\n",
      " 1587569430          1]\n",
      "OutStream:  [0 0 0 0 0 0 0 0 0 0]\n"
     ]
    }
   ],
   "source": [
    "################# Test 2: Feed continuous streams ##################\n",
    "\n",
    "import numpy as np\n",
    "from pynq import allocate\n",
    "\n",
    "\n",
    "size = 20\n",
    "row_length = 2\n",
    "inStream = allocate(shape=(size,), dtype=np.uint32)\n",
    "outStream = allocate(shape=(size//row_length,), dtype=np.uint32)\n",
    "\n",
    "# Test Continuous Streams\n",
    "isFirst = True\n",
    "time = 1587568890\n",
    "for i in range(0, size, row_length):\n",
    "    \n",
    "    if isFirst:\n",
    "        isFirst = False\n",
    "    else:\n",
    "        time += 60\n",
    "        \n",
    "    inStream[i] = time\n",
    "    inStream[i+1] = 1\n",
    "    \n",
    "inStream.flush()\n",
    "print(\"InStream: \", inStream)\n",
    "print(\"OutStream: \", outStream)\n"
   ]
  },
  {
   "cell_type": "code",
   "execution_count": 422,
   "metadata": {},
   "outputs": [
    {
     "data": {
      "text/plain": [
       "RegisterMap {\n",
       "  TCSR0 = Register(MDT0=0, UDT0=1, GENT0=0, CAPT0=0, ARHT0=0, LOAD0=0, ENIT0=0, ENT0=0, T0INT=0, PWMA0=0, ENALL=0, CASC=0),\n",
       "  TLR0 = Register(TCLR0=4294967295),\n",
       "  TCR0 = Register(TCR0=4293421916),\n",
       "  TCSR1 = Register(MDT1=0, UDT1=0, GENT1=0, CAPT1=0, ARHT1=0, LOAD1=0, ENIT1=0, ENT1=0, T1INT=0, PWMA1=0, ENALL=0),\n",
       "  TLR1 = Register(TCLR1=0),\n",
       "  TCR1 = Register(TCR1=0)\n",
       "}"
      ]
     },
     "execution_count": 422,
     "metadata": {},
     "output_type": "execute_result"
    }
   ],
   "source": [
    "hw_timer.register_map"
   ]
  },
  {
   "cell_type": "code",
   "execution_count": 423,
   "metadata": {},
   "outputs": [],
   "source": [
    "# # Enable Cascaded Mode (64 bit timer)\n",
    "# ## -> TCSR1 is invalid in this mode\n",
    "# hw_timer.register_map.TCSR0.CASC = 1"
   ]
  },
  {
   "cell_type": "code",
   "execution_count": 424,
   "metadata": {},
   "outputs": [],
   "source": [
    "# Generate Mode\n",
    "hw_timer.register_map.TCSR0.MDT0 = 0"
   ]
  },
  {
   "cell_type": "code",
   "execution_count": 425,
   "metadata": {},
   "outputs": [],
   "source": [
    "# DOWN counter\n",
    "hw_timer.register_map.TCSR0.UDT0 = 1"
   ]
  },
  {
   "cell_type": "code",
   "execution_count": 426,
   "metadata": {},
   "outputs": [],
   "source": [
    "# Don't Overwrite Load Value\n",
    "hw_timer.register_map.TCSR0.ARHT0 = 0"
   ]
  },
  {
   "cell_type": "code",
   "execution_count": 427,
   "metadata": {},
   "outputs": [],
   "source": [
    "# Reset/Load registers for Cascaded 64 bit mode\n",
    "\n",
    "## MAX_COUNT\n",
    "# hw_timer.register_map.TLR1 = 0xFFFFFFFF\n",
    "\n",
    "## MAX_COUNT\n",
    "# hw_timer.register_map.TLR0 =  0xFFFFFFFF\n",
    "\n",
    "## Load value from TLR0 and TLR1 in Cascaded Mode\n",
    "# hw_timer.register_map.TCSR0.LOAD0 = 1\n",
    "## Disable load bit so that timer can be enabled\n",
    "# hw_timer.register_map.TCSR0.LOAD0 = 0"
   ]
  },
  {
   "cell_type": "code",
   "execution_count": 428,
   "metadata": {},
   "outputs": [],
   "source": [
    "# Reset/Load Counter registers\n",
    "## Note:- Run this block each time before measuring time\n",
    " \n",
    "## MAX_COUNT\n",
    "hw_timer.register_map.TLR0 = 0xFFFFFFFF\n",
    "## Load value from TLR0\n",
    "hw_timer.register_map.TCSR0.LOAD0 = 1\n",
    "## Disable load bit so that timer can be enabled\n",
    "hw_timer.register_map.TCSR0.LOAD0 = 0"
   ]
  },
  {
   "cell_type": "code",
   "execution_count": 429,
   "metadata": {},
   "outputs": [
    {
     "data": {
      "text/plain": [
       "RegisterMap {\n",
       "  TCSR0 = Register(MDT0=0, UDT0=1, GENT0=0, CAPT0=0, ARHT0=0, LOAD0=0, ENIT0=0, ENT0=0, T0INT=0, PWMA0=0, ENALL=0, CASC=0),\n",
       "  TLR0 = Register(TCLR0=4294967295),\n",
       "  TCR0 = Register(TCR0=4294967295),\n",
       "  TCSR1 = Register(MDT1=0, UDT1=0, GENT1=0, CAPT1=0, ARHT1=0, LOAD1=0, ENIT1=0, ENT1=0, T1INT=0, PWMA1=0, ENALL=0),\n",
       "  TLR1 = Register(TCLR1=0),\n",
       "  TCR1 = Register(TCR1=0)\n",
       "}"
      ]
     },
     "execution_count": 429,
     "metadata": {},
     "output_type": "execute_result"
    }
   ],
   "source": [
    "# Check signals were set\n",
    "hw_timer.register_map"
   ]
  },
  {
   "cell_type": "code",
   "execution_count": 430,
   "metadata": {},
   "outputs": [
    {
     "name": "stdout",
     "output_type": "stream",
     "text": [
      "Completed transfer\n"
     ]
    }
   ],
   "source": [
    "########## HW Timer Measurement ###########\n",
    "## HW timer can only measure total time or dma block time at any given point\n",
    "import time\n",
    "\n",
    "streams = 10\n",
    "listOut = []\n",
    "\n",
    "# Start HW_TIMER\n",
    "hw_timer.register_map.TCSR0.ENT0 = 1\n",
    "for i in range(streams):\n",
    "    \n",
    "    dma.sendchannel.transfer(inStream)\n",
    "    \n",
    "    dma.recvchannel.transfer(outStream)\n",
    "    \n",
    "#     if i == (streams - 1):\n",
    "#         hw_timer.register_map.TCSR0.ENT0 = 1\n",
    "        \n",
    "    dma.sendchannel.wait()\n",
    "\n",
    "    dma.recvchannel.wait()\n",
    "    \n",
    "#     if i == (streams - 1):\n",
    "#         hw_timer.register_map.TCSR0.ENT0 = 0\n",
    "#         process_count = int(hw_timer.register_map.TCR0)\n",
    "#         max_count = int(hw_timer.register_map.TLR0)\n",
    "#         time = (max_count - process_count) * 1/(Clocks.fclk0_mhz * 10**6)\n",
    "#         print(\"DMA Block Time: {0}\".format(time))\n",
    "        \n",
    "  \n",
    "    #   listOut.append(outStream) \n",
    "\n",
    "# STOP HW_TIMER\n",
    "hw_timer.register_map.TCSR0.ENT0 = 0\n",
    "inStream.freebuffer()\n",
    "outStream.freebuffer()\n",
    "print(\"Completed transfer\")    "
   ]
  },
  {
   "cell_type": "code",
   "execution_count": 431,
   "metadata": {},
   "outputs": [
    {
     "name": "stdout",
     "output_type": "stream",
     "text": [
      "HW timer measurement of 10 streams in seconds is: 0.005835738994164261\n",
      "RegisterMap {\n",
      "  TCSR0 = Register(MDT0=0, UDT0=1, GENT0=0, CAPT0=0, ARHT0=0, LOAD0=0, ENIT0=0, ENT0=0, T0INT=0, PWMA0=0, ENALL=0, CASC=0),\n",
      "  TLR0 = Register(TCLR0=4294967295),\n",
      "  TCR0 = Register(TCR0=4294518392),\n",
      "  TCSR1 = Register(MDT1=0, UDT1=0, GENT1=0, CAPT1=0, ARHT1=0, LOAD1=0, ENIT1=0, ENT1=0, T1INT=0, PWMA1=0, ENALL=0),\n",
      "  TLR1 = Register(TCLR1=0),\n",
      "  TCR1 = Register(TCR1=0)\n",
      "}\n"
     ]
    }
   ],
   "source": [
    "process_count = int(hw_timer.register_map.TCR0)\n",
    "max_count = int(hw_timer.register_map.TLR0)\n",
    "time = (max_count - process_count) * 1/(Clocks.fclk0_mhz * 10**6)\n",
    "print(\"HW timer measurement of {0} streams in seconds is: {1}\".format(streams, time))\n",
    "\n",
    "print(hw_timer.register_map)"
   ]
  },
  {
   "cell_type": "code",
   "execution_count": 432,
   "metadata": {},
   "outputs": [],
   "source": [
    "# Check records\n",
    "# for i in range(streams):\n",
    "#     print(listOut[i])"
   ]
  },
  {
   "cell_type": "code",
   "execution_count": 433,
   "metadata": {},
   "outputs": [
    {
     "name": "stdout",
     "output_type": "stream",
     "text": [
      "Completed transfer\n"
     ]
    }
   ],
   "source": [
    "########## SW Timer Measurement ###########\n",
    "## SW timer can measure total time and dma block time together\n",
    "\n",
    "import time\n",
    "\n",
    "streams = 50\n",
    "listOut = []\n",
    "# Start SW_TIMER\n",
    "startTime = time.time()\n",
    "\n",
    "for i in range(streams):\n",
    "    \n",
    "    dma.sendchannel.transfer(inStream)\n",
    "    \n",
    "    dma.recvchannel.transfer(outStream)\n",
    "    \n",
    "#     if i == (streams - 1):\n",
    "#         dmaStartTime = time.time()\n",
    "        \n",
    "    dma.sendchannel.wait()\n",
    "\n",
    "    dma.recvchannel.wait()\n",
    "    \n",
    "#     if i == (streams - 1):\n",
    "#         dmaEndTime = time.time()\n",
    "#         print(\"DMA Block Time: {0}\".format(dmaEndTime - dmaStartTime))\n",
    "        \n",
    "    # Not sure if flush is needed after IP writes to outStream\n",
    "    outStream.flush()\n",
    "    \n",
    "#     listOut.append(outStream)\n",
    "\n",
    "# STOP SW_TIMER\n",
    "endTime = time.time()\n",
    "\n",
    "inStream.freebuffer()\n",
    "outStream.freebuffer()\n",
    "print(\"Completed transfer\") "
   ]
  },
  {
   "cell_type": "code",
   "execution_count": 434,
   "metadata": {},
   "outputs": [
    {
     "name": "stdout",
     "output_type": "stream",
     "text": [
      "Time for 50 streams of 20 records in s: 0.019855499267578125\n"
     ]
    }
   ],
   "source": [
    "print(\"Time for {0} streams of {1} records in s: {2}\".format(streams, size,  endTime - startTime))"
   ]
  },
  {
   "cell_type": "code",
   "execution_count": 96,
   "metadata": {},
   "outputs": [],
   "source": [
    "# Check records\n",
    "# for i in range(streams):\n",
    "#     print(listOut[i])"
   ]
  },
  {
   "cell_type": "code",
   "execution_count": null,
   "metadata": {},
   "outputs": [],
   "source": []
  }
 ],
 "metadata": {
  "kernelspec": {
   "display_name": "Python 3",
   "language": "python",
   "name": "python3"
  },
  "language_info": {
   "codemirror_mode": {
    "name": "ipython",
    "version": 3
   },
   "file_extension": ".py",
   "mimetype": "text/x-python",
   "name": "python",
   "nbconvert_exporter": "python",
   "pygments_lexer": "ipython3",
   "version": "3.6.5"
  }
 },
 "nbformat": 4,
 "nbformat_minor": 1
}
