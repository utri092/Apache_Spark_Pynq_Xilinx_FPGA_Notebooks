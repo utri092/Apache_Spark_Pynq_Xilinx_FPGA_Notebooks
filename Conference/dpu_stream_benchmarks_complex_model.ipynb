{
 "cells": [
  {
   "cell_type": "markdown",
   "metadata": {
    "collapsed": true
   },
   "source": [
    "# Welcome to PYNQ\n",
    "\n",
    "## Getting Started\n",
    "\n",
    "To get started using PYNQ, try running the example notebooks in the folders described below. \n",
    "\n",
    "* **getting_started**: includes an introduction to using Jupyter notebook with PYNQ, the Python environment, and how to use some basic features of the curernt platform. \n",
    "\n",
    "* **common**: contains example notebooks on how to download an overlay, how to set the Zynq clocks, how to execute Linux shell commands, and how to use USB devices.\n",
    "\n",
    "If other overlays or packages are installed, other folders with example notebooks may also be available in this directory.  \n",
    "\n",
    "\n",
    "## Documentation\n",
    "\n",
    "Please see the latest <a href=\"http://pynq.readthedocs.io\">PYNQ Documentation on readthedocs</a>.  \n",
    "\n",
    "\n",
    "## Support\n",
    "\n",
    "For questions or support, go to the forum on the <a href=\"http://www.pynq.io\">PYNQ project webpage </a>.\n",
    "\n",
    "\n",
    "## Project webpage\n",
    "\n",
    "You can find details on the <a href=\"http://www.pynq.io\">PYNQ project webpage </a>.\n",
    "\n",
    "\n",
    "## GitHub\n",
    "\n",
    "The PYNQ Repository is hosted on github: <a href=\"https://github.com/Xilinx/PYNQ\">PYNQ GitHub Repository</a>."
   ]
  },
  {
   "cell_type": "code",
   "execution_count": 16,
   "metadata": {},
   "outputs": [],
   "source": [
    "import os"
   ]
  },
  {
   "cell_type": "code",
   "execution_count": 17,
   "metadata": {},
   "outputs": [
    {
     "data": {
      "text/plain": [
       "'/home/xilinx/jupyter_notebooks'"
      ]
     },
     "execution_count": 17,
     "metadata": {},
     "output_type": "execute_result"
    }
   ],
   "source": [
    "os.getcwd()"
   ]
  },
  {
   "cell_type": "code",
   "execution_count": 18,
   "metadata": {},
   "outputs": [
    {
     "name": "stdout",
     "output_type": "stream",
     "text": [
      "CPU:   1199.988000MHz\n",
      "FCLK0: 99.999000MHz\n"
     ]
    }
   ],
   "source": [
    "from pynq import Overlay, Clocks\n",
    "\n",
    "print(f'CPU:   {Clocks.cpu_mhz:.6f}MHz')\n",
    "print(f'FCLK0: {Clocks.fclk0_mhz:.6f}MHz')\n"
   ]
  },
  {
   "cell_type": "code",
   "execution_count": 229,
   "metadata": {},
   "outputs": [],
   "source": [
    "# Use bitstream for PL \n",
    "overlay = Overlay(os.getcwd() + \"/smart_parking_complex/dpu_ip/dpu.bit\")"
   ]
  },
  {
   "cell_type": "code",
   "execution_count": 230,
   "metadata": {},
   "outputs": [],
   "source": [
    "overlay?"
   ]
  },
  {
   "cell_type": "code",
   "execution_count": 231,
   "metadata": {},
   "outputs": [],
   "source": [
    "# DPU IP\n",
    "dpu_ip = overlay.dpu_ip\n",
    "dpu_ip?"
   ]
  },
  {
   "cell_type": "code",
   "execution_count": 232,
   "metadata": {},
   "outputs": [],
   "source": [
    "# DMA IP\n",
    "dma = overlay.axi_dma\n",
    "dma?"
   ]
  },
  {
   "cell_type": "code",
   "execution_count": 233,
   "metadata": {},
   "outputs": [],
   "source": [
    "hw_timer = overlay.axi_timer\n",
    "hw_timer?"
   ]
  },
  {
   "cell_type": "code",
   "execution_count": 234,
   "metadata": {
    "scrolled": true
   },
   "outputs": [
    {
     "data": {
      "text/plain": [
       "RegisterMap {\n",
       "  CTRL = Register(AP_START=0, AP_DONE=0, AP_IDLE=1, AP_READY=0, RESERVED_1=0, AUTO_RESTART=0, RESERVED_2=0),\n",
       "  GIER = Register(Enable=0, RESERVED=0),\n",
       "  IP_IER = Register(CHAN0_INT_EN=0, CHAN1_INT_EN=0, RESERVED=0),\n",
       "  IP_ISR = Register(CHAN0_INT_ST=0, CHAN1_INT_ST=0, RESERVED=0),\n",
       "  max_size = Register(max_size=0),\n",
       "  max_size_ctrl = Register(max_size_ap_vld=0, RESERVED=0)\n",
       "}"
      ]
     },
     "execution_count": 234,
     "metadata": {},
     "output_type": "execute_result"
    }
   ],
   "source": [
    "#  Shows the Registers we need to access - Can use access via names or direct memory  (via names is easier)\n",
    "dpu_ip.register_map\n"
   ]
  },
  {
   "cell_type": "code",
   "execution_count": 235,
   "metadata": {
    "scrolled": true
   },
   "outputs": [],
   "source": [
    "# Smart Parking Stream\n",
    "\n",
    "# First signal to set high. Ensures AP_START Signal does not go low after one cycle\n",
    "# In AXI_STREAM, only setting AP_START enables computations for 1 stream\n",
    "dpu_ip.register_map.CTRL.AUTO_RESTART = 1\n",
    "# Computations occur while high\n",
    "dpu_ip.register_map.CTRL.AP_START = 1"
   ]
  },
  {
   "cell_type": "code",
   "execution_count": 236,
   "metadata": {},
   "outputs": [
    {
     "data": {
      "text/plain": [
       "RegisterMap {\n",
       "  CTRL = Register(AP_START=1, AP_DONE=1, AP_IDLE=0, AP_READY=0, RESERVED_1=0, AUTO_RESTART=1, RESERVED_2=0),\n",
       "  GIER = Register(Enable=0, RESERVED=0),\n",
       "  IP_IER = Register(CHAN0_INT_EN=0, CHAN1_INT_EN=0, RESERVED=0),\n",
       "  IP_ISR = Register(CHAN0_INT_ST=0, CHAN1_INT_ST=0, RESERVED=0),\n",
       "  max_size = Register(max_size=4294967295),\n",
       "  max_size_ctrl = Register(max_size_ap_vld=1, RESERVED=0)\n",
       "}"
      ]
     },
     "execution_count": 236,
     "metadata": {},
     "output_type": "execute_result"
    }
   ],
   "source": [
    "# Check if signals were set and read only registers have values\n",
    "dpu_ip.register_map"
   ]
  },
  {
   "cell_type": "code",
   "execution_count": 237,
   "metadata": {},
   "outputs": [
    {
     "name": "stdout",
     "output_type": "stream",
     "text": [
      "4294967295\n"
     ]
    }
   ],
   "source": [
    "# Maximum no of elements dpu accepts in input Stream\n",
    "## This is for a finite size for loop implementation\n",
    "## While loop implementation can accept unlimited size of stream\n",
    "max_size = int(dpu_ip.register_map.max_size)\n",
    "print(max_size)"
   ]
  },
  {
   "cell_type": "code",
   "execution_count": 238,
   "metadata": {},
   "outputs": [],
   "source": [
    "################# Test 1: Feed a single stream ##################"
   ]
  },
  {
   "cell_type": "code",
   "execution_count": 239,
   "metadata": {},
   "outputs": [],
   "source": [
    "\n",
    "def createInOutStreams(size):\n",
    "    # Test Continuous Streams\n",
    "    \n",
    "    featuresList = []\n",
    "    predictionsList = []\n",
    "    \n",
    "    row_length = 2\n",
    "    \n",
    "    \n",
    "    isFirst = True\n",
    "    time = 1587568890\n",
    "    carparkID = 1\n",
    "    \n",
    "    for i in range(0, size, row_length):\n",
    "\n",
    "        if isFirst:\n",
    "            isFirst = False\n",
    "        else:\n",
    "            time += 60\n",
    "\n",
    "        featuresList.append(time)\n",
    "        featuresList.append(carparkID)\n",
    "        \n",
    "        if(len(featuresList) != size):\n",
    "            predictionsList.append(0)\n",
    "\n",
    "    \n",
    "    predictionsList.append(0)\n",
    "    print(\"featuresList Size: \", len(featuresList))\n",
    "    print(\"predictionsList Size: \", len(predictionsList))\n",
    "    \n",
    "    return featuresList, predictionsList"
   ]
  },
  {
   "cell_type": "code",
   "execution_count": 240,
   "metadata": {},
   "outputs": [
    {
     "name": "stdout",
     "output_type": "stream",
     "text": [
      "featuresList Size:  10\n",
      "predictionsList Size:  5\n"
     ]
    }
   ],
   "source": [
    "size = 10\n",
    "featuresList, predictionsList = createInOutStreams(size)"
   ]
  },
  {
   "cell_type": "code",
   "execution_count": 241,
   "metadata": {},
   "outputs": [
    {
     "name": "stdout",
     "output_type": "stream",
     "text": [
      "[1587568890          1 1587568950          1 1587569010          1\n",
      " 1587569070          1 1587569130          1]\n"
     ]
    }
   ],
   "source": [
    "import numpy as np\n",
    "from pynq import allocate\n",
    "\n",
    "\n",
    "inStream = allocate(shape=(len(featuresList),), dtype=np.uint32)\n",
    "\n",
    "\n",
    "inStream[:] = featuresList[:]\n",
    "\n",
    "# Confirm records were transferred\n",
    "print(inStream)\n",
    "\n",
    "outStream = allocate(shape=(len(predictionsList),), dtype=np.uint32)"
   ]
  },
  {
   "cell_type": "code",
   "execution_count": 242,
   "metadata": {},
   "outputs": [
    {
     "name": "stdout",
     "output_type": "stream",
     "text": [
      "Completed transfer inStream\n"
     ]
    }
   ],
   "source": [
    "dma.sendchannel.transfer(inStream)\n",
    "print(\"Completed transfer inStream\")"
   ]
  },
  {
   "cell_type": "code",
   "execution_count": 243,
   "metadata": {},
   "outputs": [
    {
     "name": "stdout",
     "output_type": "stream",
     "text": [
      "Completed transfer outStream\n"
     ]
    }
   ],
   "source": [
    "dma.recvchannel.transfer(outStream)\n",
    "print(\"Completed transfer outStream\")"
   ]
  },
  {
   "cell_type": "code",
   "execution_count": 244,
   "metadata": {
    "scrolled": true
   },
   "outputs": [
    {
     "name": "stdout",
     "output_type": "stream",
     "text": [
      "Completed send Channel wait\n"
     ]
    }
   ],
   "source": [
    "# Call if TLAST is not set high in HLS code\n",
    "dma.sendchannel.wait()\n",
    "print(\"Completed send Channel wait\")"
   ]
  },
  {
   "cell_type": "code",
   "execution_count": 245,
   "metadata": {},
   "outputs": [
    {
     "name": "stdout",
     "output_type": "stream",
     "text": [
      "Completed recv Channel wait\n"
     ]
    }
   ],
   "source": [
    "# Call if TLAST is not set high in HLS code\n",
    "dma.recvchannel.wait()\n",
    "print(\"Completed recv Channel wait\")"
   ]
  },
  {
   "cell_type": "code",
   "execution_count": 246,
   "metadata": {},
   "outputs": [
    {
     "name": "stdout",
     "output_type": "stream",
     "text": [
      "[20 20 20 20 20]\n"
     ]
    }
   ],
   "source": [
    "# outStream.flush()\n",
    "print(outStream)"
   ]
  },
  {
   "cell_type": "code",
   "execution_count": 247,
   "metadata": {},
   "outputs": [
    {
     "name": "stdout",
     "output_type": "stream",
     "text": [
      "Freed inStream buffer\n"
     ]
    }
   ],
   "source": [
    "inStream.freebuffer()\n",
    "print(\"Freed inStream buffer\")\n"
   ]
  },
  {
   "cell_type": "code",
   "execution_count": 248,
   "metadata": {},
   "outputs": [
    {
     "name": "stdout",
     "output_type": "stream",
     "text": [
      "Freed outStream buffer\n"
     ]
    }
   ],
   "source": [
    "outStream.freebuffer()\n",
    "print(\"Freed outStream buffer\")"
   ]
  },
  {
   "cell_type": "code",
   "execution_count": 249,
   "metadata": {},
   "outputs": [],
   "source": [
    "\n",
    "################# Test 2: Feed continuous streams ##################"
   ]
  },
  {
   "cell_type": "code",
   "execution_count": 268,
   "metadata": {},
   "outputs": [
    {
     "name": "stdout",
     "output_type": "stream",
     "text": [
      "featuresList Size:  2048\n",
      "predictionsList Size:  1024\n"
     ]
    }
   ],
   "source": [
    "# Create A large batch size (records = size // 2)\n",
    "size = 2048\n",
    "\n",
    "# No of batches\n",
    "streams = 10000\n",
    "\n",
    "featuresList, predictionsList = createInOutStreams(size)"
   ]
  },
  {
   "cell_type": "code",
   "execution_count": 269,
   "metadata": {},
   "outputs": [],
   "source": [
    "import numpy as np\n",
    "from pynq import allocate\n",
    "\n",
    "\n",
    "import numpy as np\n",
    "from pynq import allocate\n",
    "\n",
    "if max_size >= size: \n",
    "\n",
    "    inStream = allocate(shape=(len(featuresList),), dtype=np.uint32)\n",
    "\n",
    "    inStream[:] = featuresList[:]\n",
    "\n",
    "    outStream = allocate(shape=(len(predictionsList),), dtype=np.uint32)\n",
    "else:\n",
    "    print(\"Use a lower batch size than {0} or implement alternate design that removes batch size limit\".format(max_size))"
   ]
  },
  {
   "cell_type": "code",
   "execution_count": 270,
   "metadata": {},
   "outputs": [],
   "source": [
    "########## Timer Functions ################\n",
    "def init_timer():\n",
    "    # Generate Mode\n",
    "    hw_timer.register_map.TCSR0.MDT0 = 0\n",
    "    # DOWN counter\n",
    "    hw_timer.register_map.TCSR0.UDT0 = 1\n",
    "    # Don't Overwrite Load Value\n",
    "    hw_timer.register_map.TCSR0.ARHT0 = 0\n",
    "    \n",
    "# Reset/Load Counter registers\n",
    "## Note:- Run this block each time before measuring time\n",
    "def reset_timer():\n",
    "    ## MAX_COUNT\n",
    "    hw_timer.register_map.TLR0 = 0xFFFFFFFF\n",
    "    ## Load value from TLR0\n",
    "    hw_timer.register_map.TCSR0.LOAD0 = 1\n",
    "    ## Disable load bit so that timer can be enabled\n",
    "    hw_timer.register_map.TCSR0.LOAD0 = 0\n",
    "    \n",
    "def start_timer():\n",
    "    hw_timer.register_map.TCSR0.ENT0 = 1\n",
    "    \n",
    "def stop_timer():\n",
    "    hw_timer.register_map.TCSR0.ENT0 = 0"
   ]
  },
  {
   "cell_type": "code",
   "execution_count": 271,
   "metadata": {},
   "outputs": [],
   "source": [
    "init_timer()\n",
    "reset_timer()"
   ]
  },
  {
   "cell_type": "code",
   "execution_count": 272,
   "metadata": {},
   "outputs": [
    {
     "name": "stdout",
     "output_type": "stream",
     "text": [
      "Completed transfer\n"
     ]
    }
   ],
   "source": [
    "########## HW Timer Measurement ###########\n",
    "\n",
    "## HW timer can only measure total time or dma block time at any given point\n",
    "import time\n",
    "\n",
    "listOut = []\n",
    "\n",
    "reset_timer()\n",
    "\n",
    "start_timer()\n",
    "for i in range(streams):\n",
    "    \n",
    "\n",
    "    dma.sendchannel.transfer(inStream)\n",
    "    \n",
    "    dma.recvchannel.transfer(outStream)\n",
    "    \n",
    "#     if i == (streams - 1):\n",
    "#         hw_timer.register_map.TCSR0.ENT0 = 1\n",
    "        \n",
    "    dma.sendchannel.wait()\n",
    "\n",
    "    dma.recvchannel.wait()\n",
    "\n",
    "\n",
    "# To calculate time which DMA blocks for\n",
    "    \n",
    "#     if i == (streams - 1):\n",
    "#         hw_timer.register_map.TCSR0.ENT0 = 0\n",
    "#         process_count = int(hw_timer.register_map.TCR0)\n",
    "#         max_count = int(hw_timer.register_map.TLR0)\n",
    "#         time = (max_count - process_count) * 1/(Clocks.fclk0_mhz * 10**6)\n",
    "#         print(\"DMA Block Time: {0}\".format(time))\n",
    "        \n",
    "  \n",
    "    #listOut.append(outStream) \n",
    "\n",
    "stop_timer()\n",
    "inStream.freebuffer()\n",
    "outStream.freebuffer()\n",
    "print(\"Completed transfer\")    "
   ]
  },
  {
   "cell_type": "code",
   "execution_count": 273,
   "metadata": {},
   "outputs": [
    {
     "name": "stdout",
     "output_type": "stream",
     "text": [
      "HW timer measurement for 10000 batches of 1024 records in s: 3.1984434144341445\n",
      "Time taken for 1 records in s: 3.1234798969083443e-07\n"
     ]
    }
   ],
   "source": [
    "process_count = int(hw_timer.register_map.TCR0)\n",
    "max_count = int(hw_timer.register_map.TLR0)\n",
    "time = (max_count - process_count) * 1/(Clocks.fclk0_mhz * 10**6)\n",
    "print(\"HW timer measurement for {0} batches of {1} records in s: {2}\".format(streams, size//2,  time))\n",
    "print(\"Time taken for 1 records in s: {0}\".format((time)/(outStream.size * streams)))\n"
   ]
  },
  {
   "cell_type": "code",
   "execution_count": 135,
   "metadata": {},
   "outputs": [
    {
     "name": "stdout",
     "output_type": "stream",
     "text": [
      "RegisterMap {\n",
      "  TCSR0 = Register(MDT0=0, UDT0=1, GENT0=0, CAPT0=0, ARHT0=0, LOAD0=0, ENIT0=0, ENT0=0, T0INT=0, PWMA0=0, ENALL=0, CASC=0),\n",
      "  TLR0 = Register(TCLR0=4294967295),\n",
      "  TCR0 = Register(TCR0=3980286318),\n",
      "  TCSR1 = Register(MDT1=0, UDT1=0, GENT1=0, CAPT1=0, ARHT1=0, LOAD1=0, ENIT1=0, ENT1=0, T1INT=0, PWMA1=0, ENALL=0),\n",
      "  TLR1 = Register(TCLR1=0),\n",
      "  TCR1 = Register(TCR1=0)\n",
      "}\n"
     ]
    }
   ],
   "source": [
    "\n",
    "print(hw_timer.register_map)"
   ]
  },
  {
   "cell_type": "code",
   "execution_count": 750,
   "metadata": {},
   "outputs": [],
   "source": [
    "# Check records\n",
    "# for i in range(streams):\n",
    "#     print(listOut[i])"
   ]
  },
  {
   "cell_type": "code",
   "execution_count": 751,
   "metadata": {},
   "outputs": [
    {
     "name": "stdout",
     "output_type": "stream",
     "text": [
      "Completed transfer\n"
     ]
    }
   ],
   "source": [
    "########## SW Timer Measurement ###########\n",
    "## SW timer can measure total time and dma block time together\n",
    "\n",
    "import time\n",
    "\n",
    "streams = 1000\n",
    "\n",
    "listOut = []\n",
    "# Start SW_TIMER\n",
    "startTime = time.time()\n",
    "\n",
    "for i in range(streams):\n",
    "    \n",
    "    dma.sendchannel.transfer(inStream)\n",
    "    \n",
    "    dma.recvchannel.transfer(outStream)\n",
    "    \n",
    "#     if i == (streams - 1):\n",
    "#         dmaStartTime = time.time()\n",
    "        \n",
    "    dma.sendchannel.wait()\n",
    "\n",
    "    dma.recvchannel.wait()\n",
    "    \n",
    "#     if i == (streams - 1):\n",
    "#         dmaEndTime = time.time()\n",
    "#         print(\"DMA Block Time: {0}\".format(dmaEndTime - dmaStartTime))\n",
    "        \n",
    "    # Not sure if flush is needed after IP writes to outStream\n",
    "    # outStream.flush()\n",
    "    \n",
    "#     listOut.append(outStream)\n",
    "\n",
    "# STOP SW_TIMER\n",
    "endTime = time.time()\n",
    "\n",
    "inStream.freebuffer()\n",
    "outStream.freebuffer()\n",
    "print(\"Completed transfer\") "
   ]
  },
  {
   "cell_type": "code",
   "execution_count": 423,
   "metadata": {},
   "outputs": [
    {
     "name": "stdout",
     "output_type": "stream",
     "text": [
      "Time for 1000 streams of 50000 records in s: 2.2971248626708984\n"
     ]
    }
   ],
   "source": [
    "print(\"Time for {0} streams of {1} records in s: {2}\".format(streams, size//2,  endTime - startTime))"
   ]
  },
  {
   "cell_type": "code",
   "execution_count": null,
   "metadata": {},
   "outputs": [],
   "source": []
  }
 ],
 "metadata": {
  "kernelspec": {
   "display_name": "Python 3",
   "language": "python",
   "name": "python3"
  },
  "language_info": {
   "codemirror_mode": {
    "name": "ipython",
    "version": 3
   },
   "file_extension": ".py",
   "mimetype": "text/x-python",
   "name": "python",
   "nbconvert_exporter": "python",
   "pygments_lexer": "ipython3",
   "version": "3.6.5"
  }
 },
 "nbformat": 4,
 "nbformat_minor": 1
}
