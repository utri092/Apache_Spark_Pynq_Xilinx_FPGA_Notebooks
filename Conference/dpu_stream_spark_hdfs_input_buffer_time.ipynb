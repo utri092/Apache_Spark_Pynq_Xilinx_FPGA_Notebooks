{
 "cells": [
  {
   "cell_type": "markdown",
   "metadata": {
    "collapsed": true
   },
   "source": [
    "### Note:- For CMA buffers (inStream/outStream), avoid printing large amounts. Kernel crashes on ZCU104. Pynq Z2 does not as its Jupyter Notebook behaves differently"
   ]
  },
  {
   "cell_type": "code",
   "execution_count": 1,
   "metadata": {
    "scrolled": true
   },
   "outputs": [],
   "source": [
    "import findspark\n",
    "findspark.init()"
   ]
  },
  {
   "cell_type": "code",
   "execution_count": 2,
   "metadata": {},
   "outputs": [],
   "source": [
    "import pyspark"
   ]
  },
  {
   "cell_type": "code",
   "execution_count": 3,
   "metadata": {},
   "outputs": [],
   "source": [
    "from pyspark.sql import SparkSession"
   ]
  },
  {
   "cell_type": "code",
   "execution_count": 4,
   "metadata": {},
   "outputs": [
    {
     "data": {
      "text/plain": [
       "'2.4.5'"
      ]
     },
     "execution_count": 4,
     "metadata": {},
     "output_type": "execute_result"
    }
   ],
   "source": [
    "pyspark.__version__"
   ]
  },
  {
   "cell_type": "code",
   "execution_count": 5,
   "metadata": {},
   "outputs": [],
   "source": [
    "spark = SparkSession \\\n",
    "    .builder \\\n",
    "    .appName(\"Python Spark SQL basic example\") \\\n",
    "    .config('spark.sql.execution.arrow.fallback.enabled', 'true')\\\n",
    "    .config(\"spark.sql.execution.arrow.enabled\", \"true\")\\\n",
    "    .master(\"local[*]\")\\\n",
    "    .getOrCreate()\n"
   ]
  },
  {
   "cell_type": "code",
   "execution_count": 6,
   "metadata": {},
   "outputs": [],
   "source": [
    "import os"
   ]
  },
  {
   "cell_type": "code",
   "execution_count": 7,
   "metadata": {},
   "outputs": [
    {
     "data": {
      "text/plain": [
       "'/home/xilinx/jupyter_notebooks'"
      ]
     },
     "execution_count": 7,
     "metadata": {},
     "output_type": "execute_result"
    }
   ],
   "source": [
    "os.getcwd()"
   ]
  },
  {
   "cell_type": "code",
   "execution_count": 8,
   "metadata": {},
   "outputs": [
    {
     "data": {
      "application/javascript": [
       "\n",
       "try {\n",
       "require(['notebook/js/codecell'], function(codecell) {\n",
       "  codecell.CodeCell.options_default.highlight_modes[\n",
       "      'magic_text/x-csrc'] = {'reg':[/^%%microblaze/]};\n",
       "  Jupyter.notebook.events.one('kernel_ready.Kernel', function(){\n",
       "      Jupyter.notebook.get_cells().map(function(cell){\n",
       "          if (cell.cell_type == 'code'){ cell.auto_highlight(); } }) ;\n",
       "  });\n",
       "});\n",
       "} catch (e) {};\n"
      ]
     },
     "metadata": {},
     "output_type": "display_data"
    },
    {
     "data": {
      "application/javascript": [
       "\n",
       "try {\n",
       "require(['notebook/js/codecell'], function(codecell) {\n",
       "  codecell.CodeCell.options_default.highlight_modes[\n",
       "      'magic_text/x-csrc'] = {'reg':[/^%%pybind11/]};\n",
       "  Jupyter.notebook.events.one('kernel_ready.Kernel', function(){\n",
       "      Jupyter.notebook.get_cells().map(function(cell){\n",
       "          if (cell.cell_type == 'code'){ cell.auto_highlight(); } }) ;\n",
       "  });\n",
       "});\n",
       "} catch (e) {};\n"
      ]
     },
     "metadata": {},
     "output_type": "display_data"
    },
    {
     "name": "stdout",
     "output_type": "stream",
     "text": [
      "CPU:   1199.988000MHz\n",
      "FCLK0: 99.999000MHz\n"
     ]
    }
   ],
   "source": [
    "from pynq import Overlay, Clocks\n",
    "\n",
    "print(f'CPU:   {Clocks.cpu_mhz:.6f}MHz')\n",
    "print(f'FCLK0: {Clocks.fclk0_mhz:.6f}MHz')\n"
   ]
  },
  {
   "cell_type": "code",
   "execution_count": 9,
   "metadata": {},
   "outputs": [],
   "source": [
    "# Use bitstream for PL \n",
    "overlay = Overlay(os.getcwd() + \"/smart_parking_stream/dpu_ip/dpu.bit\")"
   ]
  },
  {
   "cell_type": "code",
   "execution_count": 10,
   "metadata": {},
   "outputs": [],
   "source": [
    "overlay?"
   ]
  },
  {
   "cell_type": "code",
   "execution_count": 11,
   "metadata": {},
   "outputs": [],
   "source": [
    "# DPU IP\n",
    "dpu_ip = overlay.dpu_ip\n",
    "dpu_ip?"
   ]
  },
  {
   "cell_type": "code",
   "execution_count": 12,
   "metadata": {},
   "outputs": [],
   "source": [
    "# DMA IP\n",
    "dma = overlay.axi_dma\n",
    "dma?"
   ]
  },
  {
   "cell_type": "code",
   "execution_count": 13,
   "metadata": {},
   "outputs": [],
   "source": [
    "hw_timer = overlay.axi_timer\n",
    "hw_timer?"
   ]
  },
  {
   "cell_type": "code",
   "execution_count": 14,
   "metadata": {
    "scrolled": true
   },
   "outputs": [
    {
     "data": {
      "text/plain": [
       "RegisterMap {\n",
       "  CTRL = Register(AP_START=0, AP_DONE=0, AP_IDLE=1, AP_READY=0, RESERVED_1=0, AUTO_RESTART=0, RESERVED_2=0),\n",
       "  GIER = Register(Enable=0, RESERVED=0),\n",
       "  IP_IER = Register(CHAN0_INT_EN=0, CHAN1_INT_EN=0, RESERVED=0),\n",
       "  IP_ISR = Register(CHAN0_INT_ST=0, CHAN1_INT_ST=0, RESERVED=0),\n",
       "  max_size = Register(max_size=0),\n",
       "  max_size_ctrl = Register(max_size_ap_vld=0, RESERVED=0)\n",
       "}"
      ]
     },
     "execution_count": 14,
     "metadata": {},
     "output_type": "execute_result"
    }
   ],
   "source": [
    "#  Shows the Registers we need to access - Can use access via names or direct memory  (via names is easier)\n",
    "dpu_ip.register_map\n"
   ]
  },
  {
   "cell_type": "code",
   "execution_count": 15,
   "metadata": {
    "scrolled": true
   },
   "outputs": [],
   "source": [
    "# Smart Parking Stream\n",
    "\n",
    "# First signal to set high. Ensures AP_START Signal does not go low after one cycle\n",
    "# In AXI_STREAM, only setting AP_START enables computations for 1 stream\n",
    "dpu_ip.register_map.CTRL.AUTO_RESTART = 1\n",
    "# Computations occur while high\n",
    "dpu_ip.register_map.CTRL.AP_START = 1"
   ]
  },
  {
   "cell_type": "code",
   "execution_count": 16,
   "metadata": {},
   "outputs": [
    {
     "data": {
      "text/plain": [
       "RegisterMap {\n",
       "  CTRL = Register(AP_START=1, AP_DONE=1, AP_IDLE=0, AP_READY=0, RESERVED_1=0, AUTO_RESTART=1, RESERVED_2=0),\n",
       "  GIER = Register(Enable=0, RESERVED=0),\n",
       "  IP_IER = Register(CHAN0_INT_EN=0, CHAN1_INT_EN=0, RESERVED=0),\n",
       "  IP_ISR = Register(CHAN0_INT_ST=0, CHAN1_INT_ST=0, RESERVED=0),\n",
       "  max_size = Register(max_size=4294967295),\n",
       "  max_size_ctrl = Register(max_size_ap_vld=1, RESERVED=0)\n",
       "}"
      ]
     },
     "execution_count": 16,
     "metadata": {},
     "output_type": "execute_result"
    }
   ],
   "source": [
    "# Check if signals were set and read only registers have values\n",
    "dpu_ip.register_map"
   ]
  },
  {
   "cell_type": "code",
   "execution_count": 17,
   "metadata": {},
   "outputs": [
    {
     "name": "stdout",
     "output_type": "stream",
     "text": [
      "4294967295\n"
     ]
    }
   ],
   "source": [
    "# Maximum no of elements dpu accepts in input Stream\n",
    "## This is for a finite size for loop implementation\n",
    "## While loop implementation can accept unlimited size of stream\n",
    "max_size = int(dpu_ip.register_map.max_size)\n",
    "print(max_size)"
   ]
  },
  {
   "cell_type": "code",
   "execution_count": 18,
   "metadata": {},
   "outputs": [],
   "source": [
    "################# Test: Feed a single stream ##################"
   ]
  },
  {
   "cell_type": "code",
   "execution_count": 19,
   "metadata": {},
   "outputs": [],
   "source": [
    "########## Timer Functions ################\n",
    "def init_timer():\n",
    "    # Generate Mode\n",
    "    hw_timer.register_map.TCSR0.MDT0 = 0\n",
    "    # DOWN counter\n",
    "    hw_timer.register_map.TCSR0.UDT0 = 1\n",
    "    # Don't Overwrite Load Value\n",
    "    hw_timer.register_map.TCSR0.ARHT0 = 0\n",
    "    \n",
    "# Reset/Load Counter registers\n",
    "## Note:- Run this block each time before measuring time\n",
    "def reset_timer():\n",
    "    ## MAX_COUNT\n",
    "    hw_timer.register_map.TLR0 = 0xFFFFFFFF\n",
    "    ## Load value from TLR0\n",
    "    hw_timer.register_map.TCSR0.LOAD0 = 1\n",
    "    ## Disable load bit so that timer can be enabled\n",
    "    hw_timer.register_map.TCSR0.LOAD0 = 0\n",
    "    \n",
    "def start_timer():\n",
    "    hw_timer.register_map.TCSR0.ENT0 = 1\n",
    "    \n",
    "def stop_timer():\n",
    "    hw_timer.register_map.TCSR0.ENT0 = 0"
   ]
  },
  {
   "cell_type": "code",
   "execution_count": 21,
   "metadata": {},
   "outputs": [
    {
     "name": "stdout",
     "output_type": "stream",
     "text": [
      "RegisterMap {\n",
      "  TCSR0 = Register(MDT0=0, UDT0=1, GENT0=0, CAPT0=0, ARHT0=0, LOAD0=0, ENIT0=0, ENT0=0, T0INT=0, PWMA0=0, ENALL=0, CASC=0),\n",
      "  TLR0 = Register(TCLR0=4294967295),\n",
      "  TCR0 = Register(TCR0=4294967295),\n",
      "  TCSR1 = Register(MDT1=0, UDT1=0, GENT1=0, CAPT1=0, ARHT1=0, LOAD1=0, ENIT1=0, ENT1=0, T1INT=0, PWMA1=0, ENALL=0),\n",
      "  TLR1 = Register(TCLR1=0),\n",
      "  TCR1 = Register(TCR1=0)\n",
      "}\n"
     ]
    }
   ],
   "source": [
    "init_timer()\n",
    "reset_timer()\n",
    "# Check signals were set\n",
    "print(hw_timer.register_map)"
   ]
  },
  {
   "cell_type": "code",
   "execution_count": 54,
   "metadata": {},
   "outputs": [
    {
     "name": "stderr",
     "output_type": "stream",
     "text": [
      "/usr/local/spark/python/pyspark/sql/dataframe.py:2110: UserWarning: toPandas attempted Arrow optimization because 'spark.sql.execution.arrow.enabled' is set to true; however, failed by the reason below:\n",
      "  PyArrow >= 0.8.0 must be installed; however, it was not found.\n",
      "Attempting non-optimization as 'spark.sql.execution.arrow.fallback.enabled' is set to true.\n",
      "  warnings.warn(msg)\n"
     ]
    },
    {
     "name": "stdout",
     "output_type": "stream",
     "text": [
      "Completed transfer\n"
     ]
    }
   ],
   "source": [
    "########## HW Timer Measurement ###########\n",
    "\n",
    "import time\n",
    "import pandas as pd\n",
    "import numpy as np\n",
    "from pynq import allocate\n",
    "\n",
    "streams = 10\n",
    "row_length = 2\n",
    "\n",
    "reset_timer()\n",
    "\n",
    "start_timer()\n",
    "\n",
    "for i in range(streams):\n",
    "    \n",
    "\n",
    "    \n",
    "    df = spark.read.format(\"csv\").option(\"header\", \"true\").load('hdfs://afog-master:9000/part4-projects/resources/timing-exps/*.csv')\n",
    "    df = df.drop(df.columns[2])\n",
    "    \n",
    "    # Transform to Numpy Array\n",
    "    df_pd = df.toPandas()\n",
    "    npArr = df_pd.to_numpy()\n",
    "    \n",
    "    # Convert 2D to 1D array\n",
    "    npArr = npArr.flatten()\n",
    "    # Make Input/Output Buffers\n",
    "\n",
    "    # Allocate to Input Buffer.Prepare Output Buffer\n",
    "    if max_size >= npArr.size: \n",
    "\n",
    "        inStream = allocate(shape=npArr.shape, dtype=np.uint32)\n",
    "\n",
    "        inStream[:] = npArr[:]\n",
    "\n",
    "        outStream = allocate(shape=(len(npArr)//row_length,), dtype=np.uint32)\n",
    "    else:\n",
    "        print(\"Use a lower batch size than {0} or implement alternate design that removes batch size limit\".format(max_size))\n",
    "\n",
    "stop_timer()\n",
    "\n",
    "inStream.freebuffer()\n",
    "outStream.freebuffer()\n",
    "print(\"Completed transfer\")    "
   ]
  },
  {
   "cell_type": "code",
   "execution_count": 55,
   "metadata": {},
   "outputs": [
    {
     "name": "stdout",
     "output_type": "stream",
     "text": [
      "HW timer measurement for 10 batches of 15360 records in s: 17.990112391123912\n",
      "Time taken for 1 records in s: 0.00011712312754637964\n"
     ]
    }
   ],
   "source": [
    "process_count = int(hw_timer.register_map.TCR0)\n",
    "max_count = int(hw_timer.register_map.TLR0)\n",
    "time = (max_count - process_count) * 1/(Clocks.fclk0_mhz * 10**6)\n",
    "print(\"HW timer measurement for {0} batches of {1} records in s: {2}\".format(streams, outStream.size,  time))\n",
    "print(\"Time taken for 1 records in s: {0}\".format((time)/(outStream.size * streams)))\n"
   ]
  },
  {
   "cell_type": "code",
   "execution_count": 40,
   "metadata": {},
   "outputs": [
    {
     "name": "stdout",
     "output_type": "stream",
     "text": [
      "RegisterMap {\n",
      "  TCSR0 = Register(MDT0=0, UDT0=1, GENT0=0, CAPT0=0, ARHT0=0, LOAD0=0, ENIT0=0, ENT0=0, T0INT=0, PWMA0=0, ENALL=0, CASC=0),\n",
      "  TLR0 = Register(TCLR0=4294967295),\n",
      "  TCR0 = Register(TCR0=3143225133),\n",
      "  TCSR1 = Register(MDT1=0, UDT1=0, GENT1=0, CAPT1=0, ARHT1=0, LOAD1=0, ENIT1=0, ENT1=0, T1INT=0, PWMA1=0, ENALL=0),\n",
      "  TLR1 = Register(TCLR1=0),\n",
      "  TCR1 = Register(TCR1=0)\n",
      "}\n"
     ]
    }
   ],
   "source": [
    "\n",
    "print(hw_timer.register_map)"
   ]
  },
  {
   "cell_type": "code",
   "execution_count": null,
   "metadata": {},
   "outputs": [],
   "source": []
  }
 ],
 "metadata": {
  "kernelspec": {
   "display_name": "Python 3",
   "language": "python",
   "name": "python3"
  },
  "language_info": {
   "codemirror_mode": {
    "name": "ipython",
    "version": 3
   },
   "file_extension": ".py",
   "mimetype": "text/x-python",
   "name": "python",
   "nbconvert_exporter": "python",
   "pygments_lexer": "ipython3",
   "version": "3.6.5"
  }
 },
 "nbformat": 4,
 "nbformat_minor": 1
}
