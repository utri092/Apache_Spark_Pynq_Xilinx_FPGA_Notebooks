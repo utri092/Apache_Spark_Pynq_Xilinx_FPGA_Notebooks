{
 "cells": [
  {
   "cell_type": "markdown",
   "metadata": {
    "collapsed": true
   },
   "source": [
    "# Welcome to PYNQ\n",
    "\n",
    "## Getting Started\n",
    "\n",
    "To get started using PYNQ, try running the example notebooks in the folders described below. \n",
    "\n",
    "* **getting_started**: includes an introduction to using Jupyter notebook with PYNQ, the Python environment, and how to use some basic features of the curernt platform. \n",
    "\n",
    "* **common**: contains example notebooks on how to download an overlay, how to set the Zynq clocks, how to execute Linux shell commands, and how to use USB devices.\n",
    "\n",
    "If other overlays or packages are installed, other folders with example notebooks may also be available in this directory.  \n",
    "\n",
    "\n",
    "## Documentation\n",
    "\n",
    "Please see the latest <a href=\"http://pynq.readthedocs.io\">PYNQ Documentation on readthedocs</a>.  \n",
    "\n",
    "\n",
    "## Support\n",
    "\n",
    "For questions or support, go to the forum on the <a href=\"http://www.pynq.io\">PYNQ project webpage </a>.\n",
    "\n",
    "\n",
    "## Project webpage\n",
    "\n",
    "You can find details on the <a href=\"http://www.pynq.io\">PYNQ project webpage </a>.\n",
    "\n",
    "\n",
    "## GitHub\n",
    "\n",
    "The PYNQ Repository is hosted on github: <a href=\"https://github.com/Xilinx/PYNQ\">PYNQ GitHub Repository</a>."
   ]
  },
  {
   "cell_type": "code",
   "execution_count": 1,
   "metadata": {},
   "outputs": [],
   "source": [
    "import os"
   ]
  },
  {
   "cell_type": "code",
   "execution_count": 2,
   "metadata": {},
   "outputs": [
    {
     "data": {
      "application/javascript": [
       "\n",
       "require(['notebook/js/codecell'], function(codecell) {\n",
       "  codecell.CodeCell.options_default.highlight_modes[\n",
       "      'magic_text/x-csrc'] = {'reg':[/^%%microblaze/]};\n",
       "  Jupyter.notebook.events.one('kernel_ready.Kernel', function(){\n",
       "      Jupyter.notebook.get_cells().map(function(cell){\n",
       "          if (cell.cell_type == 'code'){ cell.auto_highlight(); } }) ;\n",
       "  });\n",
       "});\n"
      ]
     },
     "metadata": {},
     "output_type": "display_data"
    }
   ],
   "source": [
    "from pynq import Overlay"
   ]
  },
  {
   "cell_type": "code",
   "execution_count": 3,
   "metadata": {},
   "outputs": [
    {
     "data": {
      "text/plain": [
       "'/home/xilinx/jupyter_notebooks'"
      ]
     },
     "execution_count": 3,
     "metadata": {},
     "output_type": "execute_result"
    }
   ],
   "source": [
    "os.getcwd()"
   ]
  },
  {
   "cell_type": "code",
   "execution_count": 4,
   "metadata": {},
   "outputs": [],
   "source": [
    "# Use bitstream for PL \n",
    "overlay = Overlay(os.getcwd() + \"/fifo_example/fifo_1d/fifo.bit\")"
   ]
  },
  {
   "cell_type": "code",
   "execution_count": 7,
   "metadata": {},
   "outputs": [],
   "source": [
    "overlay?"
   ]
  },
  {
   "cell_type": "code",
   "execution_count": 8,
   "metadata": {},
   "outputs": [],
   "source": [
    "# 1D FIFO\n",
    "fifo_ip = overlay.fifo\n",
    "dma = overlay.fifo_dma\n",
    "fifo_ip?"
   ]
  },
  {
   "cell_type": "code",
   "execution_count": 9,
   "metadata": {},
   "outputs": [
    {
     "data": {
      "text/plain": [
       "RegisterMap {\n",
       "  CTRL = Register(AP_START=0, AP_DONE=0, AP_IDLE=1, AP_READY=0, RESERVED_1=0, AUTO_RESTART=0, RESERVED_2=0),\n",
       "  GIER = Register(Enable=0, RESERVED=0),\n",
       "  IP_IER = Register(CHAN0_INT_EN=0, CHAN1_INT_EN=0, RESERVED=0),\n",
       "  IP_ISR = Register(CHAN0_INT_ST=0, CHAN1_INT_ST=0, RESERVED=0),\n",
       "  size = Register(size=0),\n",
       "  size_ctrl = Register(size_ap_vld=0, RESERVED=0)\n",
       "}"
      ]
     },
     "execution_count": 9,
     "metadata": {},
     "output_type": "execute_result"
    }
   ],
   "source": [
    "# View Registers\n",
    "fifo_ip.register_map\n"
   ]
  },
  {
   "cell_type": "code",
   "execution_count": 10,
   "metadata": {},
   "outputs": [
    {
     "name": "stdout",
     "output_type": "stream",
     "text": [
      "Help on RegisterCTRL in module pynq.registers object:\n",
      "\n",
      "class RegisterCTRL(Register)\n",
      " |  Control signals\n",
      " |  \n",
      " |  Method resolution order:\n",
      " |      RegisterCTRL\n",
      " |      Register\n",
      " |      builtins.object\n",
      " |  \n",
      " |  Data descriptors defined here:\n",
      " |  \n",
      " |  AP_START\n",
      " |      Control signals\n",
      " |  \n",
      " |  AP_DONE\n",
      " |      Control signals\n",
      " |  \n",
      " |  AP_IDLE\n",
      " |      Control signals\n",
      " |  \n",
      " |  AP_READY\n",
      " |      Control signals\n",
      " |  \n",
      " |  RESERVED_1\n",
      " |      Control signals\n",
      " |  \n",
      " |  AUTO_RESTART\n",
      " |      Control signals\n",
      " |  \n",
      " |  RESERVED_2\n",
      " |      Control signals\n",
      " |  \n",
      " |  ----------------------------------------------------------------------\n",
      " |  Data and other attributes defined here:\n",
      " |  \n",
      " |  _fields = {'AP_DONE': {'access': 'read-only', 'bit_offset': 1, 'bit_wi...\n",
      " |  \n",
      " |  ----------------------------------------------------------------------\n",
      " |  Methods inherited from Register:\n",
      " |  \n",
      " |  __getitem__(self, index)\n",
      " |      Get the register value.\n",
      " |      \n",
      " |      This method accepts both integer index, or slice as input parameters.\n",
      " |      \n",
      " |      Parameters\n",
      " |      ----------\n",
      " |      index : int | slice\n",
      " |          The integer index, or slice to access the register value.\n",
      " |  \n",
      " |  __index__(self)\n",
      " |      Return an index containing the value of the register\n",
      " |  \n",
      " |  __init__(self, address, width=32, debug=False, buffer=None)\n",
      " |      Instantiate a register object.\n",
      " |      \n",
      " |      Parameters\n",
      " |      ----------\n",
      " |      address : int\n",
      " |          The address of the register.\n",
      " |      width : int\n",
      " |          The width of the register, e.g., 32 (default) or 64.\n",
      " |      debug : bool\n",
      " |          Turn on debug mode if True; default is False.\n",
      " |      buffer : Buffer\n",
      " |          Buffer object to use for reading and writing the value\n",
      " |          of the register. If None the address is assumed to be\n",
      " |          an absolute physical address\n",
      " |  \n",
      " |  __int__(self)\n",
      " |      Return an integer of the value of the register\n",
      " |  \n",
      " |  __repr__(self)\n",
      " |      Print a representation of the Register and all its fields\n",
      " |      \n",
      " |      If the Register has been subclassed with fields then these\n",
      " |      will be printed otherwise the return string will contain the\n",
      " |      value of the entire register\n",
      " |  \n",
      " |  __setitem__(self, index, value)\n",
      " |      Set the register value.\n",
      " |      \n",
      " |      This method accepts both integer index, or slice as input parameters.\n",
      " |      \n",
      " |      Parameters\n",
      " |      ----------\n",
      " |      index : int | slice\n",
      " |          The integer index, or slice to access the register value.\n",
      " |  \n",
      " |  __str__(self)\n",
      " |      Print the register value.\n",
      " |      \n",
      " |      This method is overloaded to print the register value. The output\n",
      " |      is a string in hex format.\n",
      " |  \n",
      " |  _debug(self, s, *args)\n",
      " |      The method provides debug capabilities for this class.\n",
      " |      \n",
      " |      Parameters\n",
      " |      ----------\n",
      " |      s : str\n",
      " |          The debug information format string\n",
      " |      *args : any\n",
      " |          The arguments to be formatted\n",
      " |      Returns\n",
      " |      -------\n",
      " |      None\n",
      " |  \n",
      " |  _reordered_setitem(self, value, index)\n",
      " |      Wrapped version of __setitem__ for better use with\n",
      " |      functools.partial\n",
      " |  \n",
      " |  ----------------------------------------------------------------------\n",
      " |  Class methods inherited from Register:\n",
      " |  \n",
      " |  count(index, width=32) from builtins.type\n",
      " |      Provide the number of bits accessed by an index or slice\n",
      " |      \n",
      " |      This method accepts both integer index, or slice as input parameters.\n",
      " |      \n",
      " |      Parameters\n",
      " |      ----------\n",
      " |      index : int | slice\n",
      " |          The integer index, or slice to access the register value.\n",
      " |      width : int\n",
      " |          The number of bits accessed.\n",
      " |  \n",
      " |  create_subclass(name, fields, doc=None) from builtins.type\n",
      " |      Create a subclass of Register that has properties for the\n",
      " |      specified fields\n",
      " |      \n",
      " |      The fields should be in the form used by `ip_dict`, namely::\n",
      " |      \n",
      " |          {name: {'access': \"read-only\" | \"read-write\" | \"write-only\",\n",
      " |                  'bit_offset': int, 'bit_width': int, 'description': str}}\n",
      " |      \n",
      " |      Parameters\n",
      " |      ----------\n",
      " |      name : str\n",
      " |          A suffix for the name of the subclass\n",
      " |      fields : dict\n",
      " |          A Dictionary containing the fields to add to the subclass\n",
      " |  \n",
      " |  ----------------------------------------------------------------------\n",
      " |  Data descriptors inherited from Register:\n",
      " |  \n",
      " |  __dict__\n",
      " |      dictionary for instance variables (if defined)\n",
      " |  \n",
      " |  __weakref__\n",
      " |      list of weak references to the object (if defined)\n",
      "\n"
     ]
    }
   ],
   "source": [
    "help(fifo_ip.register_map.CTRL)"
   ]
  },
  {
   "cell_type": "code",
   "execution_count": 11,
   "metadata": {
    "scrolled": true
   },
   "outputs": [],
   "source": [
    "import numpy as np\n",
    "from pynq import allocate"
   ]
  },
  {
   "cell_type": "code",
   "execution_count": 12,
   "metadata": {},
   "outputs": [],
   "source": [
    "# Will run for one intake\n",
    "# Enable AUTO_RESTART for continuous runs\n",
    "fifo_ip.register_map.CTRL.AP_START = 1"
   ]
  },
  {
   "cell_type": "code",
   "execution_count": 13,
   "metadata": {},
   "outputs": [
    {
     "data": {
      "text/plain": [
       "Register(size=10)"
      ]
     },
     "execution_count": 13,
     "metadata": {},
     "output_type": "execute_result"
    }
   ],
   "source": [
    "# Read numpy array size\n",
    "fifo_ip.register_map.size"
   ]
  },
  {
   "cell_type": "code",
   "execution_count": 14,
   "metadata": {},
   "outputs": [
    {
     "ename": "AttributeError",
     "evalue": "can't set attribute",
     "output_type": "error",
     "traceback": [
      "\u001b[0;31m---------------------------------------------------------------------------\u001b[0m",
      "\u001b[0;31mAttributeError\u001b[0m                            Traceback (most recent call last)",
      "\u001b[0;32m<ipython-input-14-18b6ef6c3f35>\u001b[0m in \u001b[0;36m<module>\u001b[0;34m()\u001b[0m\n\u001b[1;32m      1\u001b[0m \u001b[0;31m# Prove size is read-only\u001b[0m\u001b[0;34m\u001b[0m\u001b[0;34m\u001b[0m\u001b[0m\n\u001b[0;32m----> 2\u001b[0;31m \u001b[0mfifo_ip\u001b[0m\u001b[0;34m.\u001b[0m\u001b[0mregister_map\u001b[0m\u001b[0;34m.\u001b[0m\u001b[0msize\u001b[0m \u001b[0;34m=\u001b[0m \u001b[0;36m1000\u001b[0m\u001b[0;34m\u001b[0m\u001b[0m\n\u001b[0m",
      "\u001b[0;31mAttributeError\u001b[0m: can't set attribute"
     ]
    }
   ],
   "source": [
    "# Prove size is read-only\n",
    "fifo_ip.register_map.size = 1000"
   ]
  },
  {
   "cell_type": "code",
   "execution_count": 15,
   "metadata": {},
   "outputs": [
    {
     "name": "stdout",
     "output_type": "stream",
     "text": [
      "10\n"
     ]
    }
   ],
   "source": [
    "size = int(fifo_ip.register_map.size)\n",
    "print(size)"
   ]
  },
  {
   "cell_type": "code",
   "execution_count": 16,
   "metadata": {},
   "outputs": [
    {
     "name": "stdout",
     "output_type": "stream",
     "text": [
      "[100 100 100 100 100 100 100 100 100 100]\n",
      "[0 0 0 0 0 0 0 0 0 0]\n"
     ]
    }
   ],
   "source": [
    "# size = 10\n",
    "inStream = allocate(shape=(size,), dtype=np.int32)\n",
    "outStream = allocate(shape=(size,), dtype=np.int32)\n",
    "\n",
    "for i in range(size):\n",
    "    inStream[i] = 100\n",
    "    \n",
    "inStream.flush()\n",
    "print(inStream)\n",
    "print(outStream)\n"
   ]
  },
  {
   "cell_type": "code",
   "execution_count": 17,
   "metadata": {},
   "outputs": [
    {
     "name": "stdout",
     "output_type": "stream",
     "text": [
      "Completed transfer inStream\n"
     ]
    }
   ],
   "source": [
    "dma.sendchannel.transfer(inStream)\n",
    "print(\"Completed transfer inStream\")\n",
    "\n"
   ]
  },
  {
   "cell_type": "code",
   "execution_count": 18,
   "metadata": {},
   "outputs": [
    {
     "name": "stdout",
     "output_type": "stream",
     "text": [
      "Completed transfer outStream\n"
     ]
    }
   ],
   "source": [
    "dma.recvchannel.transfer(outStream)\n",
    "print(\"Completed transfer outStream\")"
   ]
  },
  {
   "cell_type": "code",
   "execution_count": 19,
   "metadata": {},
   "outputs": [
    {
     "name": "stdout",
     "output_type": "stream",
     "text": [
      "Completed wait send\n"
     ]
    }
   ],
   "source": [
    "# Call if TLAST is not set high in HLS code\n",
    "dma.sendchannel.wait()\n",
    "print(\"Completed wait send\")\n"
   ]
  },
  {
   "cell_type": "code",
   "execution_count": 20,
   "metadata": {},
   "outputs": [
    {
     "name": "stdout",
     "output_type": "stream",
     "text": [
      "Completed wait recv\n"
     ]
    }
   ],
   "source": [
    "# Call if TLAST is not set high in HLS code\n",
    "dma.recvchannel.wait()\n",
    "print(\"Completed wait recv\")"
   ]
  },
  {
   "cell_type": "code",
   "execution_count": 21,
   "metadata": {},
   "outputs": [
    {
     "name": "stdout",
     "output_type": "stream",
     "text": [
      "[100 100 100 100 100 100 100 100 100 100]\n"
     ]
    }
   ],
   "source": [
    "print(outStream)"
   ]
  },
  {
   "cell_type": "code",
   "execution_count": 22,
   "metadata": {},
   "outputs": [
    {
     "name": "stdout",
     "output_type": "stream",
     "text": [
      "Freed inStream buffer\n"
     ]
    }
   ],
   "source": [
    "inStream.freebuffer()\n",
    "print(\"Freed inStream buffer\")"
   ]
  },
  {
   "cell_type": "code",
   "execution_count": 23,
   "metadata": {},
   "outputs": [
    {
     "name": "stdout",
     "output_type": "stream",
     "text": [
      "Freed outStream buffer\n"
     ]
    }
   ],
   "source": [
    "outStream.freebuffer()\n",
    "print(\"Freed outStream buffer\")"
   ]
  },
  {
   "cell_type": "code",
   "execution_count": 24,
   "metadata": {},
   "outputs": [
    {
     "data": {
      "text/plain": [
       "RegisterMap {\n",
       "  CTRL = Register(AP_START=0, AP_DONE=0, AP_IDLE=1, AP_READY=0, RESERVED_1=0, AUTO_RESTART=0, RESERVED_2=0),\n",
       "  GIER = Register(Enable=0, RESERVED=0),\n",
       "  IP_IER = Register(CHAN0_INT_EN=0, CHAN1_INT_EN=0, RESERVED=0),\n",
       "  IP_ISR = Register(CHAN0_INT_ST=0, CHAN1_INT_ST=0, RESERVED=0),\n",
       "  size = Register(size=10),\n",
       "  size_ctrl = Register(size_ap_vld=1, RESERVED=0)\n",
       "}"
      ]
     },
     "execution_count": 24,
     "metadata": {},
     "output_type": "execute_result"
    }
   ],
   "source": [
    "fifo_ip.register_map"
   ]
  },
  {
   "cell_type": "code",
   "execution_count": null,
   "metadata": {},
   "outputs": [],
   "source": []
  }
 ],
 "metadata": {
  "kernelspec": {
   "display_name": "Python 3",
   "language": "python",
   "name": "python3"
  },
  "language_info": {
   "codemirror_mode": {
    "name": "ipython",
    "version": 3
   },
   "file_extension": ".py",
   "mimetype": "text/x-python",
   "name": "python",
   "nbconvert_exporter": "python",
   "pygments_lexer": "ipython3",
   "version": "3.6.5"
  }
 },
 "nbformat": 4,
 "nbformat_minor": 1
}
